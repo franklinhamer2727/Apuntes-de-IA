{
  "nbformat": 4,
  "nbformat_minor": 0,
  "metadata": {
    "colab": {
      "provenance": [],
      "mount_file_id": "1IvNl7S9Tlyt_MWPmB6gNSIliNbTPxjfH",
      "authorship_tag": "ABX9TyO8BRqhqM+lbvp3mD32wJCs",
      "include_colab_link": true
    },
    "kernelspec": {
      "name": "python3",
      "display_name": "Python 3"
    },
    "language_info": {
      "name": "python"
    }
  },
  "cells": [
    {
      "cell_type": "markdown",
      "metadata": {
        "id": "view-in-github",
        "colab_type": "text"
      },
      "source": [
        "<a href=\"https://colab.research.google.com/github/franklinhamer2727/Apuntes-de-IA/blob/main/Big_Data_%26_Data_sciencie_UCM.ipynb\" target=\"_parent\"><img src=\"https://colab.research.google.com/assets/colab-badge.svg\" alt=\"Open In Colab\"/></a>"
      ]
    },
    {
      "cell_type": "code",
      "execution_count": 2,
      "metadata": {
        "colab": {
          "base_uri": "https://localhost:8080/"
        },
        "id": "uAf_0msKT0Y4",
        "outputId": "3c6d0923-dd00-4bd7-8170-0a7bc857a405"
      },
      "outputs": [
        {
          "output_type": "stream",
          "name": "stdout",
          "text": [
            "unzip:  cannot find or open Hotel_Reviews.csv.zip, Hotel_Reviews.csv.zip.zip or Hotel_Reviews.csv.zip.ZIP.\n",
            "drive  sample_data\n"
          ]
        }
      ],
      "source": [
        "!unzip Hotel_Reviews.csv.zip -d ./data\n",
        "!ls"
      ]
    },
    {
      "cell_type": "markdown",
      "source": [
        "EXPLORACION, TRANFORMACION Y VISUALIZACION DE DATASET\n",
        "\n",
        "- 1.1 EDA (analisis exploratorio)\n",
        "- 1.2 Preprocesado\n",
        "- 1.3 Visualización\n",
        "\n",
        "TEXT MINING\n",
        "\n",
        "- 2.1 Modelo de clasificaion para detectar reseñas negativas\n",
        "  - Adquisicion de data textual\n",
        "  - Mormalizacion (preprocesado de texto)\n",
        "  - Visualizacion previa al modelo\n",
        "  - Analisis de sentimeinto con TextBlob\n",
        "  - Vectorizacion\n",
        "  - Contruccion del modelo\n",
        "  - Evaluacion del modelo\n",
        "- 2.2 Clustering de hoteles segun sus reseñas (Word Embeddings)\n",
        "- 2.3 Topic Modelling\n",
        "\n"
      ],
      "metadata": {
        "id": "Aj56osLZVu-w"
      }
    },
    {
      "cell_type": "code",
      "source": [
        "import pandas as pd\n",
        "pd.set_option('display.max_columns',None)\n",
        "from pandas_profiling import ProfileReport\n",
        "from pandas.api.types import is_string_dtype, is_numeric_dtype,is_object_dtype\n",
        "import numpy as np\n",
        "\n",
        "#Graficos\n",
        "import matplotlib.pyplot as plt\n",
        "import plotly.express as px\n",
        "from matplotlib import gridspec\n",
        "from matplotlib.pyplot import *\n",
        "import seaborn as sns\n",
        "\n",
        "#Procesamiento de modelado\n",
        "from sklearn import tree\n",
        "from sklearn.metrics import accuracy_score, auc, make_scorer, confusion_matrix\n",
        "from sklearn.preprocessing import LabelEncoder,OneHotEncoder\n",
        "from sklearn.linear_model import LogisticRegression\n",
        "from sklearn.naive_bayes import GaussianNB\n",
        "from sklearn.tree import DecisionTreeClassifier\n",
        "from sklearn.ensemble import RandomForestClassifier\n",
        "from sklearn.ensemble import GradientBoostingRegressor\n",
        "from sklearn.model_selection import train_test_split,RandomizedSearchCV, GridSearchCV\n",
        "from sklearn.ensemble import RandomForestClassifier\n",
        "import xgboost as xgb\n",
        "from xgboost import XGBClassifier\n",
        "from sklearn.cluster import KMeans\n",
        "from sklearn.decomposition import PCA\n",
        "\n",
        "#Librerias de procesamiento de texto\n",
        "from sklearn.feature_extraction.text import TfidfVectorizer\n",
        "import nltk\n",
        "nltk.download('stopwords')\n",
        "nltk.download('punkt')\n",
        "nltk.download('wordnet')\n",
        "nltk.download('averaged_perceptron_tagger')\n",
        "from nltk.corpus import stopwords\n",
        "from nltk.tokenize import word_tokenize\n",
        "from nltk import pos_tag\n",
        "import sys\n"
      ],
      "metadata": {
        "colab": {
          "base_uri": "https://localhost:8080/"
        },
        "id": "qb_uu-kFVgXi",
        "outputId": "7b5a0678-8263-45eb-f887-5ec21a58c3dc"
      },
      "execution_count": 3,
      "outputs": [
        {
          "output_type": "stream",
          "name": "stderr",
          "text": [
            "[nltk_data] Downloading package stopwords to /root/nltk_data...\n",
            "[nltk_data]   Unzipping corpora/stopwords.zip.\n",
            "[nltk_data] Downloading package punkt to /root/nltk_data...\n",
            "[nltk_data]   Unzipping tokenizers/punkt.zip.\n",
            "[nltk_data] Downloading package wordnet to /root/nltk_data...\n",
            "[nltk_data] Downloading package averaged_perceptron_tagger to\n",
            "[nltk_data]     /root/nltk_data...\n",
            "[nltk_data]   Unzipping taggers/averaged_perceptron_tagger.zip.\n"
          ]
        }
      ]
    },
    {
      "cell_type": "code",
      "source": [
        "!pip install textblob\n",
        "!python -m spacy download en_core_web_sm\n",
        "!pip install textblob\n",
        "!pip install -U gensim\n"
      ],
      "metadata": {
        "colab": {
          "base_uri": "https://localhost:8080/"
        },
        "id": "AyERYD98xVSM",
        "outputId": "d188ca32-7426-4824-fccf-57472b022a36"
      },
      "execution_count": 4,
      "outputs": [
        {
          "output_type": "stream",
          "name": "stdout",
          "text": [
            "Looking in indexes: https://pypi.org/simple, https://us-python.pkg.dev/colab-wheels/public/simple/\n",
            "Requirement already satisfied: textblob in /usr/local/lib/python3.7/dist-packages (0.15.3)\n",
            "Requirement already satisfied: nltk>=3.1 in /usr/local/lib/python3.7/dist-packages (from textblob) (3.7)\n",
            "Requirement already satisfied: joblib in /usr/local/lib/python3.7/dist-packages (from nltk>=3.1->textblob) (1.2.0)\n",
            "Requirement already satisfied: regex>=2021.8.3 in /usr/local/lib/python3.7/dist-packages (from nltk>=3.1->textblob) (2022.6.2)\n",
            "Requirement already satisfied: click in /usr/local/lib/python3.7/dist-packages (from nltk>=3.1->textblob) (7.1.2)\n",
            "Requirement already satisfied: tqdm in /usr/local/lib/python3.7/dist-packages (from nltk>=3.1->textblob) (4.64.1)\n",
            "2022-11-28 01:39:12.377258: E tensorflow/stream_executor/cuda/cuda_driver.cc:271] failed call to cuInit: CUDA_ERROR_NO_DEVICE: no CUDA-capable device is detected\n",
            "Looking in indexes: https://pypi.org/simple, https://us-python.pkg.dev/colab-wheels/public/simple/\n",
            "Collecting en-core-web-sm==3.4.1\n",
            "  Downloading https://github.com/explosion/spacy-models/releases/download/en_core_web_sm-3.4.1/en_core_web_sm-3.4.1-py3-none-any.whl (12.8 MB)\n",
            "\u001b[K     |████████████████████████████████| 12.8 MB 5.2 MB/s \n",
            "\u001b[?25hRequirement already satisfied: spacy<3.5.0,>=3.4.0 in /usr/local/lib/python3.7/dist-packages (from en-core-web-sm==3.4.1) (3.4.3)\n",
            "Requirement already satisfied: cymem<2.1.0,>=2.0.2 in /usr/local/lib/python3.7/dist-packages (from spacy<3.5.0,>=3.4.0->en-core-web-sm==3.4.1) (2.0.7)\n",
            "Requirement already satisfied: pydantic!=1.8,!=1.8.1,<1.11.0,>=1.7.4 in /usr/local/lib/python3.7/dist-packages (from spacy<3.5.0,>=3.4.0->en-core-web-sm==3.4.1) (1.10.2)\n",
            "Requirement already satisfied: spacy-loggers<2.0.0,>=1.0.0 in /usr/local/lib/python3.7/dist-packages (from spacy<3.5.0,>=3.4.0->en-core-web-sm==3.4.1) (1.0.3)\n",
            "Requirement already satisfied: langcodes<4.0.0,>=3.2.0 in /usr/local/lib/python3.7/dist-packages (from spacy<3.5.0,>=3.4.0->en-core-web-sm==3.4.1) (3.3.0)\n",
            "Requirement already satisfied: typer<0.8.0,>=0.3.0 in /usr/local/lib/python3.7/dist-packages (from spacy<3.5.0,>=3.4.0->en-core-web-sm==3.4.1) (0.7.0)\n",
            "Requirement already satisfied: setuptools in /usr/local/lib/python3.7/dist-packages (from spacy<3.5.0,>=3.4.0->en-core-web-sm==3.4.1) (57.4.0)\n",
            "Requirement already satisfied: tqdm<5.0.0,>=4.38.0 in /usr/local/lib/python3.7/dist-packages (from spacy<3.5.0,>=3.4.0->en-core-web-sm==3.4.1) (4.64.1)\n",
            "Requirement already satisfied: pathy>=0.3.5 in /usr/local/lib/python3.7/dist-packages (from spacy<3.5.0,>=3.4.0->en-core-web-sm==3.4.1) (0.8.1)\n",
            "Requirement already satisfied: preshed<3.1.0,>=3.0.2 in /usr/local/lib/python3.7/dist-packages (from spacy<3.5.0,>=3.4.0->en-core-web-sm==3.4.1) (3.0.8)\n",
            "Requirement already satisfied: wasabi<1.1.0,>=0.9.1 in /usr/local/lib/python3.7/dist-packages (from spacy<3.5.0,>=3.4.0->en-core-web-sm==3.4.1) (0.10.1)\n",
            "Requirement already satisfied: spacy-legacy<3.1.0,>=3.0.10 in /usr/local/lib/python3.7/dist-packages (from spacy<3.5.0,>=3.4.0->en-core-web-sm==3.4.1) (3.0.10)\n",
            "Requirement already satisfied: typing-extensions<4.2.0,>=3.7.4 in /usr/local/lib/python3.7/dist-packages (from spacy<3.5.0,>=3.4.0->en-core-web-sm==3.4.1) (4.1.1)\n",
            "Requirement already satisfied: thinc<8.2.0,>=8.1.0 in /usr/local/lib/python3.7/dist-packages (from spacy<3.5.0,>=3.4.0->en-core-web-sm==3.4.1) (8.1.5)\n",
            "Requirement already satisfied: packaging>=20.0 in /usr/local/lib/python3.7/dist-packages (from spacy<3.5.0,>=3.4.0->en-core-web-sm==3.4.1) (21.3)\n",
            "Requirement already satisfied: catalogue<2.1.0,>=2.0.6 in /usr/local/lib/python3.7/dist-packages (from spacy<3.5.0,>=3.4.0->en-core-web-sm==3.4.1) (2.0.8)\n",
            "Requirement already satisfied: jinja2 in /usr/local/lib/python3.7/dist-packages (from spacy<3.5.0,>=3.4.0->en-core-web-sm==3.4.1) (2.11.3)\n",
            "Requirement already satisfied: murmurhash<1.1.0,>=0.28.0 in /usr/local/lib/python3.7/dist-packages (from spacy<3.5.0,>=3.4.0->en-core-web-sm==3.4.1) (1.0.9)\n",
            "Requirement already satisfied: numpy>=1.15.0 in /usr/local/lib/python3.7/dist-packages (from spacy<3.5.0,>=3.4.0->en-core-web-sm==3.4.1) (1.21.6)\n",
            "Requirement already satisfied: srsly<3.0.0,>=2.4.3 in /usr/local/lib/python3.7/dist-packages (from spacy<3.5.0,>=3.4.0->en-core-web-sm==3.4.1) (2.4.5)\n",
            "Requirement already satisfied: requests<3.0.0,>=2.13.0 in /usr/local/lib/python3.7/dist-packages (from spacy<3.5.0,>=3.4.0->en-core-web-sm==3.4.1) (2.23.0)\n",
            "Requirement already satisfied: zipp>=0.5 in /usr/local/lib/python3.7/dist-packages (from catalogue<2.1.0,>=2.0.6->spacy<3.5.0,>=3.4.0->en-core-web-sm==3.4.1) (3.10.0)\n",
            "Requirement already satisfied: pyparsing!=3.0.5,>=2.0.2 in /usr/local/lib/python3.7/dist-packages (from packaging>=20.0->spacy<3.5.0,>=3.4.0->en-core-web-sm==3.4.1) (3.0.9)\n",
            "Requirement already satisfied: smart-open<6.0.0,>=5.2.1 in /usr/local/lib/python3.7/dist-packages (from pathy>=0.3.5->spacy<3.5.0,>=3.4.0->en-core-web-sm==3.4.1) (5.2.1)\n",
            "Requirement already satisfied: chardet<4,>=3.0.2 in /usr/local/lib/python3.7/dist-packages (from requests<3.0.0,>=2.13.0->spacy<3.5.0,>=3.4.0->en-core-web-sm==3.4.1) (3.0.4)\n",
            "Requirement already satisfied: urllib3!=1.25.0,!=1.25.1,<1.26,>=1.21.1 in /usr/local/lib/python3.7/dist-packages (from requests<3.0.0,>=2.13.0->spacy<3.5.0,>=3.4.0->en-core-web-sm==3.4.1) (1.24.3)\n",
            "Requirement already satisfied: idna<3,>=2.5 in /usr/local/lib/python3.7/dist-packages (from requests<3.0.0,>=2.13.0->spacy<3.5.0,>=3.4.0->en-core-web-sm==3.4.1) (2.10)\n",
            "Requirement already satisfied: certifi>=2017.4.17 in /usr/local/lib/python3.7/dist-packages (from requests<3.0.0,>=2.13.0->spacy<3.5.0,>=3.4.0->en-core-web-sm==3.4.1) (2022.9.24)\n",
            "Requirement already satisfied: blis<0.8.0,>=0.7.8 in /usr/local/lib/python3.7/dist-packages (from thinc<8.2.0,>=8.1.0->spacy<3.5.0,>=3.4.0->en-core-web-sm==3.4.1) (0.7.9)\n",
            "Requirement already satisfied: confection<1.0.0,>=0.0.1 in /usr/local/lib/python3.7/dist-packages (from thinc<8.2.0,>=8.1.0->spacy<3.5.0,>=3.4.0->en-core-web-sm==3.4.1) (0.0.3)\n",
            "Requirement already satisfied: click<9.0.0,>=7.1.1 in /usr/local/lib/python3.7/dist-packages (from typer<0.8.0,>=0.3.0->spacy<3.5.0,>=3.4.0->en-core-web-sm==3.4.1) (7.1.2)\n",
            "Requirement already satisfied: MarkupSafe>=0.23 in /usr/local/lib/python3.7/dist-packages (from jinja2->spacy<3.5.0,>=3.4.0->en-core-web-sm==3.4.1) (2.0.1)\n",
            "\u001b[38;5;2m✔ Download and installation successful\u001b[0m\n",
            "You can now load the package via spacy.load('en_core_web_sm')\n",
            "Looking in indexes: https://pypi.org/simple, https://us-python.pkg.dev/colab-wheels/public/simple/\n",
            "Requirement already satisfied: textblob in /usr/local/lib/python3.7/dist-packages (0.15.3)\n",
            "Requirement already satisfied: nltk>=3.1 in /usr/local/lib/python3.7/dist-packages (from textblob) (3.7)\n",
            "Requirement already satisfied: joblib in /usr/local/lib/python3.7/dist-packages (from nltk>=3.1->textblob) (1.2.0)\n",
            "Requirement already satisfied: tqdm in /usr/local/lib/python3.7/dist-packages (from nltk>=3.1->textblob) (4.64.1)\n",
            "Requirement already satisfied: click in /usr/local/lib/python3.7/dist-packages (from nltk>=3.1->textblob) (7.1.2)\n",
            "Requirement already satisfied: regex>=2021.8.3 in /usr/local/lib/python3.7/dist-packages (from nltk>=3.1->textblob) (2022.6.2)\n",
            "Looking in indexes: https://pypi.org/simple, https://us-python.pkg.dev/colab-wheels/public/simple/\n",
            "Requirement already satisfied: gensim in /usr/local/lib/python3.7/dist-packages (3.6.0)\n",
            "Collecting gensim\n",
            "  Downloading gensim-4.2.0-cp37-cp37m-manylinux_2_12_x86_64.manylinux2010_x86_64.whl (24.1 MB)\n",
            "\u001b[K     |████████████████████████████████| 24.1 MB 1.2 MB/s \n",
            "\u001b[?25hRequirement already satisfied: smart-open>=1.8.1 in /usr/local/lib/python3.7/dist-packages (from gensim) (5.2.1)\n",
            "Requirement already satisfied: scipy>=0.18.1 in /usr/local/lib/python3.7/dist-packages (from gensim) (1.7.3)\n",
            "Requirement already satisfied: numpy>=1.17.0 in /usr/local/lib/python3.7/dist-packages (from gensim) (1.21.6)\n",
            "Installing collected packages: gensim\n",
            "  Attempting uninstall: gensim\n",
            "    Found existing installation: gensim 3.6.0\n",
            "    Uninstalling gensim-3.6.0:\n",
            "      Successfully uninstalled gensim-3.6.0\n",
            "Successfully installed gensim-4.2.0\n"
          ]
        }
      ]
    },
    {
      "cell_type": "code",
      "source": [
        "import spacy\n",
        "from textblob import TextBlob\n",
        "#Gnerador de una nube de palabras\n",
        "from wordcloud import WordCloud, STOPWORDS\n",
        "#word embeddings\n",
        "import gensim\n",
        "import gensim.corpora as corpora\n",
        "from gensim.corpora import Dictionary\n",
        "from gensim.models import LdaModel\n",
        "from gensim.models import CoherenceModel\n",
        "from gensim.models import Word2Vec\n",
        "from scipy.spatial.distance import cdist\n",
        "#visualizacion  tipic modelling\n",
        "\n",
        "\n",
        "import pickle #guardar el modelo\n",
        "#varios\n",
        "import itertools\n",
        "from itertools import chain\n",
        "from collections import Counter\n",
        "import scipy as sp\n",
        "from tqdm.autonotebook import tqdm\n",
        "tqdm.pandas()\n",
        "import scipy.stats as ss\n",
        "import random\n",
        "\n",
        "%matplotlib inline\n",
        "sns.set()\n",
        "#configuracion de adventencias\n",
        "import warnings\n",
        "warnings.filterwarnings('ignore')\n",
        "\n"
      ],
      "metadata": {
        "id": "I-FnOVfExlIq"
      },
      "execution_count": 5,
      "outputs": []
    },
    {
      "cell_type": "code",
      "source": [
        "!pip install pyLDAvis"
      ],
      "metadata": {
        "colab": {
          "base_uri": "https://localhost:8080/"
        },
        "id": "n3lOqeLY0cJm",
        "outputId": "bf712788-93c4-4806-c482-0c24e2f423b7"
      },
      "execution_count": 6,
      "outputs": [
        {
          "output_type": "stream",
          "name": "stdout",
          "text": [
            "Looking in indexes: https://pypi.org/simple, https://us-python.pkg.dev/colab-wheels/public/simple/\n",
            "Collecting pyLDAvis\n",
            "  Downloading pyLDAvis-3.3.1.tar.gz (1.7 MB)\n",
            "\u001b[K     |████████████████████████████████| 1.7 MB 5.3 MB/s \n",
            "\u001b[?25h  Installing build dependencies ... \u001b[?25l\u001b[?25hdone\n",
            "  Getting requirements to build wheel ... \u001b[?25l\u001b[?25hdone\n",
            "  Installing backend dependencies ... \u001b[?25l\u001b[?25hdone\n",
            "    Preparing wheel metadata ... \u001b[?25l\u001b[?25hdone\n",
            "Requirement already satisfied: future in /usr/local/lib/python3.7/dist-packages (from pyLDAvis) (0.16.0)\n",
            "Requirement already satisfied: gensim in /usr/local/lib/python3.7/dist-packages (from pyLDAvis) (4.2.0)\n",
            "Collecting funcy\n",
            "  Downloading funcy-1.17-py2.py3-none-any.whl (33 kB)\n",
            "Requirement already satisfied: joblib in /usr/local/lib/python3.7/dist-packages (from pyLDAvis) (1.2.0)\n",
            "Requirement already satisfied: jinja2 in /usr/local/lib/python3.7/dist-packages (from pyLDAvis) (2.11.3)\n",
            "Requirement already satisfied: pandas>=1.2.0 in /usr/local/lib/python3.7/dist-packages (from pyLDAvis) (1.3.5)\n",
            "Requirement already satisfied: scipy in /usr/local/lib/python3.7/dist-packages (from pyLDAvis) (1.7.3)\n",
            "Requirement already satisfied: scikit-learn in /usr/local/lib/python3.7/dist-packages (from pyLDAvis) (1.0.2)\n",
            "Requirement already satisfied: setuptools in /usr/local/lib/python3.7/dist-packages (from pyLDAvis) (57.4.0)\n",
            "Requirement already satisfied: numexpr in /usr/local/lib/python3.7/dist-packages (from pyLDAvis) (2.8.4)\n",
            "Collecting sklearn\n",
            "  Downloading sklearn-0.0.post1.tar.gz (3.6 kB)\n",
            "Requirement already satisfied: numpy>=1.20.0 in /usr/local/lib/python3.7/dist-packages (from pyLDAvis) (1.21.6)\n",
            "Requirement already satisfied: pytz>=2017.3 in /usr/local/lib/python3.7/dist-packages (from pandas>=1.2.0->pyLDAvis) (2022.6)\n",
            "Requirement already satisfied: python-dateutil>=2.7.3 in /usr/local/lib/python3.7/dist-packages (from pandas>=1.2.0->pyLDAvis) (2.8.2)\n",
            "Requirement already satisfied: six>=1.5 in /usr/local/lib/python3.7/dist-packages (from python-dateutil>=2.7.3->pandas>=1.2.0->pyLDAvis) (1.15.0)\n",
            "Requirement already satisfied: smart-open>=1.8.1 in /usr/local/lib/python3.7/dist-packages (from gensim->pyLDAvis) (5.2.1)\n",
            "Requirement already satisfied: MarkupSafe>=0.23 in /usr/local/lib/python3.7/dist-packages (from jinja2->pyLDAvis) (2.0.1)\n",
            "Requirement already satisfied: threadpoolctl>=2.0.0 in /usr/local/lib/python3.7/dist-packages (from scikit-learn->pyLDAvis) (3.1.0)\n",
            "Building wheels for collected packages: pyLDAvis, sklearn\n",
            "  Building wheel for pyLDAvis (PEP 517) ... \u001b[?25l\u001b[?25hdone\n",
            "  Created wheel for pyLDAvis: filename=pyLDAvis-3.3.1-py2.py3-none-any.whl size=136898 sha256=708942f124bfc31d48da7a57092cda130a5481710796e8894ece6ebead51f7da\n",
            "  Stored in directory: /root/.cache/pip/wheels/c9/21/f6/17bcf2667e8a68532ba2fbf6d5c72fdf4c7f7d9abfa4852d2f\n",
            "  Building wheel for sklearn (setup.py) ... \u001b[?25l\u001b[?25hdone\n",
            "  Created wheel for sklearn: filename=sklearn-0.0.post1-py3-none-any.whl size=2344 sha256=ec778b0fef56b3c71b7d8d1b9931e9acc69d790a668a0803ed22b68f7bd79a19\n",
            "  Stored in directory: /root/.cache/pip/wheels/42/56/cc/4a8bf86613aafd5b7f1b310477667c1fca5c51c3ae4124a003\n",
            "Successfully built pyLDAvis sklearn\n",
            "Installing collected packages: sklearn, funcy, pyLDAvis\n",
            "Successfully installed funcy-1.17 pyLDAvis-3.3.1 sklearn-0.0.post1\n"
          ]
        }
      ]
    },
    {
      "cell_type": "code",
      "source": [
        "import pyLDAvis"
      ],
      "metadata": {
        "colab": {
          "base_uri": "https://localhost:8080/"
        },
        "id": "9jTGa53m0Ko6",
        "outputId": "53bedc29-2156-4536-dd78-7a3b9058cecc"
      },
      "execution_count": 7,
      "outputs": [
        {
          "output_type": "stream",
          "name": "stderr",
          "text": [
            "/usr/local/lib/python3.7/dist-packages/past/types/oldstr.py:5: DeprecationWarning: Using or importing the ABCs from 'collections' instead of from 'collections.abc' is deprecated since Python 3.3,and in 3.9 it will stop working\n",
            "  from collections import Iterable\n",
            "/usr/local/lib/python3.7/dist-packages/past/builtins/misc.py:4: DeprecationWarning: Using or importing the ABCs from 'collections' instead of from 'collections.abc' is deprecated since Python 3.3,and in 3.9 it will stop working\n",
            "  from collections import Mapping\n"
          ]
        }
      ]
    },
    {
      "cell_type": "code",
      "source": [
        "url = '/content/drive/MyDrive/Data_machine_learnin/Hotel_Reviews.csv'\n",
        "#usamos skipinitialspace para poder borrar espacios en blanco en columnas con texto\n",
        "dataset =pd.read_csv(url, skipinitialspace=True)\n"
      ],
      "metadata": {
        "id": "kxX_79Au1OOI"
      },
      "execution_count": 12,
      "outputs": []
    },
    {
      "cell_type": "code",
      "source": [
        "nRow,nCol = dataset.shape\n",
        "print(f'El dataset tiene {nRow} filas y {nCol} columnas')"
      ],
      "metadata": {
        "colab": {
          "base_uri": "https://localhost:8080/"
        },
        "id": "S-lFYCMe5YNg",
        "outputId": "b85d110e-24fd-4b0f-cd28-2f283371dbe4"
      },
      "execution_count": 13,
      "outputs": [
        {
          "output_type": "stream",
          "name": "stdout",
          "text": [
            "El dataset tiene 515738 filas y 17 columnas\n"
          ]
        }
      ]
    },
    {
      "cell_type": "markdown",
      "source": [
        "## Exploracion , Tranformacion y visualizacion de dataset\n",
        "###EDA(Analisis Exploratorio)"
      ],
      "metadata": {
        "id": "b6_9S9bE5r9n"
      }
    },
    {
      "cell_type": "code",
      "source": [
        "dataset.head()"
      ],
      "metadata": {
        "colab": {
          "base_uri": "https://localhost:8080/",
          "height": 739
        },
        "id": "7AXP4vwR5zCl",
        "outputId": "cfb64108-6b20-4876-c050-1c08c9eb4942"
      },
      "execution_count": 14,
      "outputs": [
        {
          "output_type": "execute_result",
          "data": {
            "text/plain": [
              "                                       Hotel_Address  \\\n",
              "0  s Gravesandestraat 55 Oost 1092 AA Amsterdam N...   \n",
              "1  s Gravesandestraat 55 Oost 1092 AA Amsterdam N...   \n",
              "2  s Gravesandestraat 55 Oost 1092 AA Amsterdam N...   \n",
              "3  s Gravesandestraat 55 Oost 1092 AA Amsterdam N...   \n",
              "4  s Gravesandestraat 55 Oost 1092 AA Amsterdam N...   \n",
              "\n",
              "   Additional_Number_of_Scoring Review_Date  Average_Score   Hotel_Name  \\\n",
              "0                           194    8/3/2017            7.7  Hotel Arena   \n",
              "1                           194    8/3/2017            7.7  Hotel Arena   \n",
              "2                           194   7/31/2017            7.7  Hotel Arena   \n",
              "3                           194   7/31/2017            7.7  Hotel Arena   \n",
              "4                           194   7/24/2017            7.7  Hotel Arena   \n",
              "\n",
              "  Reviewer_Nationality                                    Negative_Review  \\\n",
              "0              Russia   I am so angry that i made this post available ...   \n",
              "1             Ireland                                         No Negative   \n",
              "2           Australia   Rooms are nice but for elderly a bit difficult...   \n",
              "3      United Kingdom   My room was dirty and I was afraid to walk bar...   \n",
              "4         New Zealand   You When I booked with your company on line yo...   \n",
              "\n",
              "   Review_Total_Negative_Word_Counts  Total_Number_of_Reviews  \\\n",
              "0                                397                     1403   \n",
              "1                                  0                     1403   \n",
              "2                                 42                     1403   \n",
              "3                                210                     1403   \n",
              "4                                140                     1403   \n",
              "\n",
              "                                     Positive_Review  \\\n",
              "0  Only the park outside of the hotel was beautiful    \n",
              "1  No real complaints the hotel was great great l...   \n",
              "2  Location was good and staff were ok It is cute...   \n",
              "3  Great location in nice surroundings the bar an...   \n",
              "4    Amazing location and building Romantic setting    \n",
              "\n",
              "   Review_Total_Positive_Word_Counts  \\\n",
              "0                                 11   \n",
              "1                                105   \n",
              "2                                 21   \n",
              "3                                 26   \n",
              "4                                  8   \n",
              "\n",
              "   Total_Number_of_Reviews_Reviewer_Has_Given  Reviewer_Score  \\\n",
              "0                                           7             2.9   \n",
              "1                                           7             7.5   \n",
              "2                                           9             7.1   \n",
              "3                                           1             3.8   \n",
              "4                                           3             6.7   \n",
              "\n",
              "                                                Tags days_since_review  \\\n",
              "0  [' Leisure trip ', ' Couple ', ' Duplex Double...            0 days   \n",
              "1  [' Leisure trip ', ' Couple ', ' Duplex Double...            0 days   \n",
              "2  [' Leisure trip ', ' Family with young childre...            3 days   \n",
              "3  [' Leisure trip ', ' Solo traveler ', ' Duplex...            3 days   \n",
              "4  [' Leisure trip ', ' Couple ', ' Suite ', ' St...           10 days   \n",
              "\n",
              "         lat       lng  \n",
              "0  52.360576  4.915968  \n",
              "1  52.360576  4.915968  \n",
              "2  52.360576  4.915968  \n",
              "3  52.360576  4.915968  \n",
              "4  52.360576  4.915968  "
            ],
            "text/html": [
              "\n",
              "  <div id=\"df-7d74d88e-3552-4ab2-a8d9-9ffd00ff26e1\">\n",
              "    <div class=\"colab-df-container\">\n",
              "      <div>\n",
              "<style scoped>\n",
              "    .dataframe tbody tr th:only-of-type {\n",
              "        vertical-align: middle;\n",
              "    }\n",
              "\n",
              "    .dataframe tbody tr th {\n",
              "        vertical-align: top;\n",
              "    }\n",
              "\n",
              "    .dataframe thead th {\n",
              "        text-align: right;\n",
              "    }\n",
              "</style>\n",
              "<table border=\"1\" class=\"dataframe\">\n",
              "  <thead>\n",
              "    <tr style=\"text-align: right;\">\n",
              "      <th></th>\n",
              "      <th>Hotel_Address</th>\n",
              "      <th>Additional_Number_of_Scoring</th>\n",
              "      <th>Review_Date</th>\n",
              "      <th>Average_Score</th>\n",
              "      <th>Hotel_Name</th>\n",
              "      <th>Reviewer_Nationality</th>\n",
              "      <th>Negative_Review</th>\n",
              "      <th>Review_Total_Negative_Word_Counts</th>\n",
              "      <th>Total_Number_of_Reviews</th>\n",
              "      <th>Positive_Review</th>\n",
              "      <th>Review_Total_Positive_Word_Counts</th>\n",
              "      <th>Total_Number_of_Reviews_Reviewer_Has_Given</th>\n",
              "      <th>Reviewer_Score</th>\n",
              "      <th>Tags</th>\n",
              "      <th>days_since_review</th>\n",
              "      <th>lat</th>\n",
              "      <th>lng</th>\n",
              "    </tr>\n",
              "  </thead>\n",
              "  <tbody>\n",
              "    <tr>\n",
              "      <th>0</th>\n",
              "      <td>s Gravesandestraat 55 Oost 1092 AA Amsterdam N...</td>\n",
              "      <td>194</td>\n",
              "      <td>8/3/2017</td>\n",
              "      <td>7.7</td>\n",
              "      <td>Hotel Arena</td>\n",
              "      <td>Russia</td>\n",
              "      <td>I am so angry that i made this post available ...</td>\n",
              "      <td>397</td>\n",
              "      <td>1403</td>\n",
              "      <td>Only the park outside of the hotel was beautiful</td>\n",
              "      <td>11</td>\n",
              "      <td>7</td>\n",
              "      <td>2.9</td>\n",
              "      <td>[' Leisure trip ', ' Couple ', ' Duplex Double...</td>\n",
              "      <td>0 days</td>\n",
              "      <td>52.360576</td>\n",
              "      <td>4.915968</td>\n",
              "    </tr>\n",
              "    <tr>\n",
              "      <th>1</th>\n",
              "      <td>s Gravesandestraat 55 Oost 1092 AA Amsterdam N...</td>\n",
              "      <td>194</td>\n",
              "      <td>8/3/2017</td>\n",
              "      <td>7.7</td>\n",
              "      <td>Hotel Arena</td>\n",
              "      <td>Ireland</td>\n",
              "      <td>No Negative</td>\n",
              "      <td>0</td>\n",
              "      <td>1403</td>\n",
              "      <td>No real complaints the hotel was great great l...</td>\n",
              "      <td>105</td>\n",
              "      <td>7</td>\n",
              "      <td>7.5</td>\n",
              "      <td>[' Leisure trip ', ' Couple ', ' Duplex Double...</td>\n",
              "      <td>0 days</td>\n",
              "      <td>52.360576</td>\n",
              "      <td>4.915968</td>\n",
              "    </tr>\n",
              "    <tr>\n",
              "      <th>2</th>\n",
              "      <td>s Gravesandestraat 55 Oost 1092 AA Amsterdam N...</td>\n",
              "      <td>194</td>\n",
              "      <td>7/31/2017</td>\n",
              "      <td>7.7</td>\n",
              "      <td>Hotel Arena</td>\n",
              "      <td>Australia</td>\n",
              "      <td>Rooms are nice but for elderly a bit difficult...</td>\n",
              "      <td>42</td>\n",
              "      <td>1403</td>\n",
              "      <td>Location was good and staff were ok It is cute...</td>\n",
              "      <td>21</td>\n",
              "      <td>9</td>\n",
              "      <td>7.1</td>\n",
              "      <td>[' Leisure trip ', ' Family with young childre...</td>\n",
              "      <td>3 days</td>\n",
              "      <td>52.360576</td>\n",
              "      <td>4.915968</td>\n",
              "    </tr>\n",
              "    <tr>\n",
              "      <th>3</th>\n",
              "      <td>s Gravesandestraat 55 Oost 1092 AA Amsterdam N...</td>\n",
              "      <td>194</td>\n",
              "      <td>7/31/2017</td>\n",
              "      <td>7.7</td>\n",
              "      <td>Hotel Arena</td>\n",
              "      <td>United Kingdom</td>\n",
              "      <td>My room was dirty and I was afraid to walk bar...</td>\n",
              "      <td>210</td>\n",
              "      <td>1403</td>\n",
              "      <td>Great location in nice surroundings the bar an...</td>\n",
              "      <td>26</td>\n",
              "      <td>1</td>\n",
              "      <td>3.8</td>\n",
              "      <td>[' Leisure trip ', ' Solo traveler ', ' Duplex...</td>\n",
              "      <td>3 days</td>\n",
              "      <td>52.360576</td>\n",
              "      <td>4.915968</td>\n",
              "    </tr>\n",
              "    <tr>\n",
              "      <th>4</th>\n",
              "      <td>s Gravesandestraat 55 Oost 1092 AA Amsterdam N...</td>\n",
              "      <td>194</td>\n",
              "      <td>7/24/2017</td>\n",
              "      <td>7.7</td>\n",
              "      <td>Hotel Arena</td>\n",
              "      <td>New Zealand</td>\n",
              "      <td>You When I booked with your company on line yo...</td>\n",
              "      <td>140</td>\n",
              "      <td>1403</td>\n",
              "      <td>Amazing location and building Romantic setting</td>\n",
              "      <td>8</td>\n",
              "      <td>3</td>\n",
              "      <td>6.7</td>\n",
              "      <td>[' Leisure trip ', ' Couple ', ' Suite ', ' St...</td>\n",
              "      <td>10 days</td>\n",
              "      <td>52.360576</td>\n",
              "      <td>4.915968</td>\n",
              "    </tr>\n",
              "  </tbody>\n",
              "</table>\n",
              "</div>\n",
              "      <button class=\"colab-df-convert\" onclick=\"convertToInteractive('df-7d74d88e-3552-4ab2-a8d9-9ffd00ff26e1')\"\n",
              "              title=\"Convert this dataframe to an interactive table.\"\n",
              "              style=\"display:none;\">\n",
              "        \n",
              "  <svg xmlns=\"http://www.w3.org/2000/svg\" height=\"24px\"viewBox=\"0 0 24 24\"\n",
              "       width=\"24px\">\n",
              "    <path d=\"M0 0h24v24H0V0z\" fill=\"none\"/>\n",
              "    <path d=\"M18.56 5.44l.94 2.06.94-2.06 2.06-.94-2.06-.94-.94-2.06-.94 2.06-2.06.94zm-11 1L8.5 8.5l.94-2.06 2.06-.94-2.06-.94L8.5 2.5l-.94 2.06-2.06.94zm10 10l.94 2.06.94-2.06 2.06-.94-2.06-.94-.94-2.06-.94 2.06-2.06.94z\"/><path d=\"M17.41 7.96l-1.37-1.37c-.4-.4-.92-.59-1.43-.59-.52 0-1.04.2-1.43.59L10.3 9.45l-7.72 7.72c-.78.78-.78 2.05 0 2.83L4 21.41c.39.39.9.59 1.41.59.51 0 1.02-.2 1.41-.59l7.78-7.78 2.81-2.81c.8-.78.8-2.07 0-2.86zM5.41 20L4 18.59l7.72-7.72 1.47 1.35L5.41 20z\"/>\n",
              "  </svg>\n",
              "      </button>\n",
              "      \n",
              "  <style>\n",
              "    .colab-df-container {\n",
              "      display:flex;\n",
              "      flex-wrap:wrap;\n",
              "      gap: 12px;\n",
              "    }\n",
              "\n",
              "    .colab-df-convert {\n",
              "      background-color: #E8F0FE;\n",
              "      border: none;\n",
              "      border-radius: 50%;\n",
              "      cursor: pointer;\n",
              "      display: none;\n",
              "      fill: #1967D2;\n",
              "      height: 32px;\n",
              "      padding: 0 0 0 0;\n",
              "      width: 32px;\n",
              "    }\n",
              "\n",
              "    .colab-df-convert:hover {\n",
              "      background-color: #E2EBFA;\n",
              "      box-shadow: 0px 1px 2px rgba(60, 64, 67, 0.3), 0px 1px 3px 1px rgba(60, 64, 67, 0.15);\n",
              "      fill: #174EA6;\n",
              "    }\n",
              "\n",
              "    [theme=dark] .colab-df-convert {\n",
              "      background-color: #3B4455;\n",
              "      fill: #D2E3FC;\n",
              "    }\n",
              "\n",
              "    [theme=dark] .colab-df-convert:hover {\n",
              "      background-color: #434B5C;\n",
              "      box-shadow: 0px 1px 3px 1px rgba(0, 0, 0, 0.15);\n",
              "      filter: drop-shadow(0px 1px 2px rgba(0, 0, 0, 0.3));\n",
              "      fill: #FFFFFF;\n",
              "    }\n",
              "  </style>\n",
              "\n",
              "      <script>\n",
              "        const buttonEl =\n",
              "          document.querySelector('#df-7d74d88e-3552-4ab2-a8d9-9ffd00ff26e1 button.colab-df-convert');\n",
              "        buttonEl.style.display =\n",
              "          google.colab.kernel.accessAllowed ? 'block' : 'none';\n",
              "\n",
              "        async function convertToInteractive(key) {\n",
              "          const element = document.querySelector('#df-7d74d88e-3552-4ab2-a8d9-9ffd00ff26e1');\n",
              "          const dataTable =\n",
              "            await google.colab.kernel.invokeFunction('convertToInteractive',\n",
              "                                                     [key], {});\n",
              "          if (!dataTable) return;\n",
              "\n",
              "          const docLinkHtml = 'Like what you see? Visit the ' +\n",
              "            '<a target=\"_blank\" href=https://colab.research.google.com/notebooks/data_table.ipynb>data table notebook</a>'\n",
              "            + ' to learn more about interactive tables.';\n",
              "          element.innerHTML = '';\n",
              "          dataTable['output_type'] = 'display_data';\n",
              "          await google.colab.output.renderOutput(dataTable, element);\n",
              "          const docLink = document.createElement('div');\n",
              "          docLink.innerHTML = docLinkHtml;\n",
              "          element.appendChild(docLink);\n",
              "        }\n",
              "      </script>\n",
              "    </div>\n",
              "  </div>\n",
              "  "
            ]
          },
          "metadata": {},
          "execution_count": 14
        }
      ]
    },
    {
      "cell_type": "code",
      "source": [
        "#verificamos las filas duplicadas\n",
        "duplicated = dataset.duplicated().sum()\n",
        "print(f'El dataset tienen {duplicated} filas duplicadas')\n"
      ],
      "metadata": {
        "colab": {
          "base_uri": "https://localhost:8080/"
        },
        "id": "Gn40tu1r6BtT",
        "outputId": "fdd69b5b-aabe-414b-a22a-ce3cd0d8cdb3"
      },
      "execution_count": 15,
      "outputs": [
        {
          "output_type": "stream",
          "name": "stdout",
          "text": [
            "El dataset tienen 526 filas duplicadas\n"
          ]
        }
      ]
    },
    {
      "cell_type": "code",
      "source": [
        "#Borramso las filas duplicadas\n",
        "df = dataset.drop_duplicates()\n",
        "df.shape"
      ],
      "metadata": {
        "colab": {
          "base_uri": "https://localhost:8080/"
        },
        "id": "AlF-LH-U6UA4",
        "outputId": "1b768e7c-f207-4932-9719-4d6efac42f21"
      },
      "execution_count": 17,
      "outputs": [
        {
          "output_type": "execute_result",
          "data": {
            "text/plain": [
              "(515212, 17)"
            ]
          },
          "metadata": {},
          "execution_count": 17
        }
      ]
    },
    {
      "cell_type": "code",
      "source": [
        "#verificamos el tipo de columnas\n",
        "df.info()"
      ],
      "metadata": {
        "colab": {
          "base_uri": "https://localhost:8080/"
        },
        "id": "xLjI1x8n6jIw",
        "outputId": "eda8ece2-737c-4675-9af3-88244c36bfe1"
      },
      "execution_count": 18,
      "outputs": [
        {
          "output_type": "stream",
          "name": "stdout",
          "text": [
            "<class 'pandas.core.frame.DataFrame'>\n",
            "Int64Index: 515212 entries, 0 to 515737\n",
            "Data columns (total 17 columns):\n",
            " #   Column                                      Non-Null Count   Dtype  \n",
            "---  ------                                      --------------   -----  \n",
            " 0   Hotel_Address                               515212 non-null  object \n",
            " 1   Additional_Number_of_Scoring                515212 non-null  int64  \n",
            " 2   Review_Date                                 515212 non-null  object \n",
            " 3   Average_Score                               515212 non-null  float64\n",
            " 4   Hotel_Name                                  515212 non-null  object \n",
            " 5   Reviewer_Nationality                        514690 non-null  object \n",
            " 6   Negative_Review                             514215 non-null  object \n",
            " 7   Review_Total_Negative_Word_Counts           515212 non-null  int64  \n",
            " 8   Total_Number_of_Reviews                     515212 non-null  int64  \n",
            " 9   Positive_Review                             515019 non-null  object \n",
            " 10  Review_Total_Positive_Word_Counts           515212 non-null  int64  \n",
            " 11  Total_Number_of_Reviews_Reviewer_Has_Given  515212 non-null  int64  \n",
            " 12  Reviewer_Score                              515212 non-null  float64\n",
            " 13  Tags                                        515212 non-null  object \n",
            " 14  days_since_review                           515212 non-null  object \n",
            " 15  lat                                         511944 non-null  float64\n",
            " 16  lng                                         511944 non-null  float64\n",
            "dtypes: float64(4), int64(5), object(8)\n",
            "memory usage: 70.8+ MB\n"
          ]
        }
      ]
    },
    {
      "cell_type": "code",
      "source": [
        "#Realizamos una analisis estadistico de columnas numericas\n",
        "df.describe()"
      ],
      "metadata": {
        "colab": {
          "base_uri": "https://localhost:8080/",
          "height": 365
        },
        "id": "Dq83nxWu6tuU",
        "outputId": "660321df-89c7-4a74-a73b-a03291adaf6d"
      },
      "execution_count": 19,
      "outputs": [
        {
          "output_type": "execute_result",
          "data": {
            "text/plain": [
              "       Additional_Number_of_Scoring  Average_Score  \\\n",
              "count                 515212.000000  515212.000000   \n",
              "mean                     498.416021       8.397767   \n",
              "std                      500.668595       0.547952   \n",
              "min                        1.000000       5.200000   \n",
              "25%                      169.000000       8.100000   \n",
              "50%                      342.000000       8.400000   \n",
              "75%                      660.000000       8.800000   \n",
              "max                     2682.000000       9.800000   \n",
              "\n",
              "       Review_Total_Negative_Word_Counts  Total_Number_of_Reviews  \\\n",
              "count                      515212.000000            515212.000000   \n",
              "mean                           18.540822              2744.698889   \n",
              "std                            29.693991              2318.090821   \n",
              "min                             0.000000                43.000000   \n",
              "25%                             2.000000              1161.000000   \n",
              "50%                             9.000000              2134.000000   \n",
              "75%                            23.000000              3633.000000   \n",
              "max                           408.000000             16670.000000   \n",
              "\n",
              "       Review_Total_Positive_Word_Counts  \\\n",
              "count                      515212.000000   \n",
              "mean                           17.778256   \n",
              "std                            21.804541   \n",
              "min                             0.000000   \n",
              "25%                             5.000000   \n",
              "50%                            11.000000   \n",
              "75%                            22.000000   \n",
              "max                           395.000000   \n",
              "\n",
              "       Total_Number_of_Reviews_Reviewer_Has_Given  Reviewer_Score  \\\n",
              "count                               515212.000000   515212.000000   \n",
              "mean                                     7.164895        8.395532   \n",
              "std                                     11.039354        1.637467   \n",
              "min                                      1.000000        2.500000   \n",
              "25%                                      1.000000        7.500000   \n",
              "50%                                      3.000000        8.800000   \n",
              "75%                                      8.000000        9.600000   \n",
              "max                                    355.000000       10.000000   \n",
              "\n",
              "                 lat            lng  \n",
              "count  511944.000000  511944.000000  \n",
              "mean       49.443040       2.824222  \n",
              "std         3.468029       4.581637  \n",
              "min        41.328376      -0.369758  \n",
              "25%        48.214277      -0.143649  \n",
              "50%        51.499981      -0.000250  \n",
              "75%        51.516288       4.834443  \n",
              "max        52.400181      16.429233  "
            ],
            "text/html": [
              "\n",
              "  <div id=\"df-b923bcbd-399c-4b29-9250-fa7d0ca64dac\">\n",
              "    <div class=\"colab-df-container\">\n",
              "      <div>\n",
              "<style scoped>\n",
              "    .dataframe tbody tr th:only-of-type {\n",
              "        vertical-align: middle;\n",
              "    }\n",
              "\n",
              "    .dataframe tbody tr th {\n",
              "        vertical-align: top;\n",
              "    }\n",
              "\n",
              "    .dataframe thead th {\n",
              "        text-align: right;\n",
              "    }\n",
              "</style>\n",
              "<table border=\"1\" class=\"dataframe\">\n",
              "  <thead>\n",
              "    <tr style=\"text-align: right;\">\n",
              "      <th></th>\n",
              "      <th>Additional_Number_of_Scoring</th>\n",
              "      <th>Average_Score</th>\n",
              "      <th>Review_Total_Negative_Word_Counts</th>\n",
              "      <th>Total_Number_of_Reviews</th>\n",
              "      <th>Review_Total_Positive_Word_Counts</th>\n",
              "      <th>Total_Number_of_Reviews_Reviewer_Has_Given</th>\n",
              "      <th>Reviewer_Score</th>\n",
              "      <th>lat</th>\n",
              "      <th>lng</th>\n",
              "    </tr>\n",
              "  </thead>\n",
              "  <tbody>\n",
              "    <tr>\n",
              "      <th>count</th>\n",
              "      <td>515212.000000</td>\n",
              "      <td>515212.000000</td>\n",
              "      <td>515212.000000</td>\n",
              "      <td>515212.000000</td>\n",
              "      <td>515212.000000</td>\n",
              "      <td>515212.000000</td>\n",
              "      <td>515212.000000</td>\n",
              "      <td>511944.000000</td>\n",
              "      <td>511944.000000</td>\n",
              "    </tr>\n",
              "    <tr>\n",
              "      <th>mean</th>\n",
              "      <td>498.416021</td>\n",
              "      <td>8.397767</td>\n",
              "      <td>18.540822</td>\n",
              "      <td>2744.698889</td>\n",
              "      <td>17.778256</td>\n",
              "      <td>7.164895</td>\n",
              "      <td>8.395532</td>\n",
              "      <td>49.443040</td>\n",
              "      <td>2.824222</td>\n",
              "    </tr>\n",
              "    <tr>\n",
              "      <th>std</th>\n",
              "      <td>500.668595</td>\n",
              "      <td>0.547952</td>\n",
              "      <td>29.693991</td>\n",
              "      <td>2318.090821</td>\n",
              "      <td>21.804541</td>\n",
              "      <td>11.039354</td>\n",
              "      <td>1.637467</td>\n",
              "      <td>3.468029</td>\n",
              "      <td>4.581637</td>\n",
              "    </tr>\n",
              "    <tr>\n",
              "      <th>min</th>\n",
              "      <td>1.000000</td>\n",
              "      <td>5.200000</td>\n",
              "      <td>0.000000</td>\n",
              "      <td>43.000000</td>\n",
              "      <td>0.000000</td>\n",
              "      <td>1.000000</td>\n",
              "      <td>2.500000</td>\n",
              "      <td>41.328376</td>\n",
              "      <td>-0.369758</td>\n",
              "    </tr>\n",
              "    <tr>\n",
              "      <th>25%</th>\n",
              "      <td>169.000000</td>\n",
              "      <td>8.100000</td>\n",
              "      <td>2.000000</td>\n",
              "      <td>1161.000000</td>\n",
              "      <td>5.000000</td>\n",
              "      <td>1.000000</td>\n",
              "      <td>7.500000</td>\n",
              "      <td>48.214277</td>\n",
              "      <td>-0.143649</td>\n",
              "    </tr>\n",
              "    <tr>\n",
              "      <th>50%</th>\n",
              "      <td>342.000000</td>\n",
              "      <td>8.400000</td>\n",
              "      <td>9.000000</td>\n",
              "      <td>2134.000000</td>\n",
              "      <td>11.000000</td>\n",
              "      <td>3.000000</td>\n",
              "      <td>8.800000</td>\n",
              "      <td>51.499981</td>\n",
              "      <td>-0.000250</td>\n",
              "    </tr>\n",
              "    <tr>\n",
              "      <th>75%</th>\n",
              "      <td>660.000000</td>\n",
              "      <td>8.800000</td>\n",
              "      <td>23.000000</td>\n",
              "      <td>3633.000000</td>\n",
              "      <td>22.000000</td>\n",
              "      <td>8.000000</td>\n",
              "      <td>9.600000</td>\n",
              "      <td>51.516288</td>\n",
              "      <td>4.834443</td>\n",
              "    </tr>\n",
              "    <tr>\n",
              "      <th>max</th>\n",
              "      <td>2682.000000</td>\n",
              "      <td>9.800000</td>\n",
              "      <td>408.000000</td>\n",
              "      <td>16670.000000</td>\n",
              "      <td>395.000000</td>\n",
              "      <td>355.000000</td>\n",
              "      <td>10.000000</td>\n",
              "      <td>52.400181</td>\n",
              "      <td>16.429233</td>\n",
              "    </tr>\n",
              "  </tbody>\n",
              "</table>\n",
              "</div>\n",
              "      <button class=\"colab-df-convert\" onclick=\"convertToInteractive('df-b923bcbd-399c-4b29-9250-fa7d0ca64dac')\"\n",
              "              title=\"Convert this dataframe to an interactive table.\"\n",
              "              style=\"display:none;\">\n",
              "        \n",
              "  <svg xmlns=\"http://www.w3.org/2000/svg\" height=\"24px\"viewBox=\"0 0 24 24\"\n",
              "       width=\"24px\">\n",
              "    <path d=\"M0 0h24v24H0V0z\" fill=\"none\"/>\n",
              "    <path d=\"M18.56 5.44l.94 2.06.94-2.06 2.06-.94-2.06-.94-.94-2.06-.94 2.06-2.06.94zm-11 1L8.5 8.5l.94-2.06 2.06-.94-2.06-.94L8.5 2.5l-.94 2.06-2.06.94zm10 10l.94 2.06.94-2.06 2.06-.94-2.06-.94-.94-2.06-.94 2.06-2.06.94z\"/><path d=\"M17.41 7.96l-1.37-1.37c-.4-.4-.92-.59-1.43-.59-.52 0-1.04.2-1.43.59L10.3 9.45l-7.72 7.72c-.78.78-.78 2.05 0 2.83L4 21.41c.39.39.9.59 1.41.59.51 0 1.02-.2 1.41-.59l7.78-7.78 2.81-2.81c.8-.78.8-2.07 0-2.86zM5.41 20L4 18.59l7.72-7.72 1.47 1.35L5.41 20z\"/>\n",
              "  </svg>\n",
              "      </button>\n",
              "      \n",
              "  <style>\n",
              "    .colab-df-container {\n",
              "      display:flex;\n",
              "      flex-wrap:wrap;\n",
              "      gap: 12px;\n",
              "    }\n",
              "\n",
              "    .colab-df-convert {\n",
              "      background-color: #E8F0FE;\n",
              "      border: none;\n",
              "      border-radius: 50%;\n",
              "      cursor: pointer;\n",
              "      display: none;\n",
              "      fill: #1967D2;\n",
              "      height: 32px;\n",
              "      padding: 0 0 0 0;\n",
              "      width: 32px;\n",
              "    }\n",
              "\n",
              "    .colab-df-convert:hover {\n",
              "      background-color: #E2EBFA;\n",
              "      box-shadow: 0px 1px 2px rgba(60, 64, 67, 0.3), 0px 1px 3px 1px rgba(60, 64, 67, 0.15);\n",
              "      fill: #174EA6;\n",
              "    }\n",
              "\n",
              "    [theme=dark] .colab-df-convert {\n",
              "      background-color: #3B4455;\n",
              "      fill: #D2E3FC;\n",
              "    }\n",
              "\n",
              "    [theme=dark] .colab-df-convert:hover {\n",
              "      background-color: #434B5C;\n",
              "      box-shadow: 0px 1px 3px 1px rgba(0, 0, 0, 0.15);\n",
              "      filter: drop-shadow(0px 1px 2px rgba(0, 0, 0, 0.3));\n",
              "      fill: #FFFFFF;\n",
              "    }\n",
              "  </style>\n",
              "\n",
              "      <script>\n",
              "        const buttonEl =\n",
              "          document.querySelector('#df-b923bcbd-399c-4b29-9250-fa7d0ca64dac button.colab-df-convert');\n",
              "        buttonEl.style.display =\n",
              "          google.colab.kernel.accessAllowed ? 'block' : 'none';\n",
              "\n",
              "        async function convertToInteractive(key) {\n",
              "          const element = document.querySelector('#df-b923bcbd-399c-4b29-9250-fa7d0ca64dac');\n",
              "          const dataTable =\n",
              "            await google.colab.kernel.invokeFunction('convertToInteractive',\n",
              "                                                     [key], {});\n",
              "          if (!dataTable) return;\n",
              "\n",
              "          const docLinkHtml = 'Like what you see? Visit the ' +\n",
              "            '<a target=\"_blank\" href=https://colab.research.google.com/notebooks/data_table.ipynb>data table notebook</a>'\n",
              "            + ' to learn more about interactive tables.';\n",
              "          element.innerHTML = '';\n",
              "          dataTable['output_type'] = 'display_data';\n",
              "          await google.colab.output.renderOutput(dataTable, element);\n",
              "          const docLink = document.createElement('div');\n",
              "          docLink.innerHTML = docLinkHtml;\n",
              "          element.appendChild(docLink);\n",
              "        }\n",
              "      </script>\n",
              "    </div>\n",
              "  </div>\n",
              "  "
            ]
          },
          "metadata": {},
          "execution_count": 19
        }
      ]
    },
    {
      "cell_type": "markdown",
      "source": [
        "- La puntuacion media de los hoteles observadas es 8.4/10\n",
        "- La media de las palabras de opinion negativa es igual a 18.5 palabras( max 408), la positiva a 17.7 (max 395)\n",
        "- La media del numero total de opiniones que recibio cada hotel es igual a 2743\n",
        "- La mitad de turistas escribio hasta 3 opiniones\n"
      ],
      "metadata": {
        "id": "86er5oG57EhI"
      }
    },
    {
      "cell_type": "code",
      "source": [
        "df.isna().sum().sort_values(ascending=False) #numeros de datos ausentes por variable"
      ],
      "metadata": {
        "colab": {
          "base_uri": "https://localhost:8080/"
        },
        "id": "k0eSr3ul7AMo",
        "outputId": "b6b9d1e6-0794-4a6e-8a55-47ec26e5a72c"
      },
      "execution_count": 22,
      "outputs": [
        {
          "output_type": "execute_result",
          "data": {
            "text/plain": [
              "lng                                           3268\n",
              "lat                                           3268\n",
              "Negative_Review                                997\n",
              "Reviewer_Nationality                           522\n",
              "Positive_Review                                193\n",
              "Review_Total_Positive_Word_Counts                0\n",
              "days_since_review                                0\n",
              "Tags                                             0\n",
              "Reviewer_Score                                   0\n",
              "Total_Number_of_Reviews_Reviewer_Has_Given       0\n",
              "Hotel_Address                                    0\n",
              "Additional_Number_of_Scoring                     0\n",
              "Review_Total_Negative_Word_Counts                0\n",
              "Hotel_Name                                       0\n",
              "Average_Score                                    0\n",
              "Review_Date                                      0\n",
              "Total_Number_of_Reviews                          0\n",
              "dtype: int64"
            ]
          },
          "metadata": {},
          "execution_count": 22
        }
      ]
    },
    {
      "cell_type": "markdown",
      "source": [
        "- Las variables Negative_Review y Positive_Review en el documento inicial tenian espacios en blanco (la gente a veces pone un espacio cuando no tienen nada que escribir). Al cargar el dataset usamos la característica \"skipinitialspace=True\" lo que nos ha permitido tener missings en vez de solo espacios vacíos no considerados como missigns.\n",
        "\n",
        "- Cuando una persona no deja ningún comentario ni espacio en blanco en la opinión negativa, el sistema genera automáticamente las palabras \"No Negative\" en la columna de opinión negativa. Entonces, podemos concluir que los missings en las opiniones negativas son iguales a \"No Negative\". Lo mismo pasa con las opiniones positivas."
      ],
      "metadata": {
        "id": "Bf49s1rY_okW"
      }
    },
    {
      "cell_type": "code",
      "source": [
        "#Veamos el numero de categorias distintas de cada variable categorica\n",
        "for column in df:\n",
        "  if is_object_dtype(df[column]):\n",
        "    print(column,len(df[column].unique()))"
      ],
      "metadata": {
        "colab": {
          "base_uri": "https://localhost:8080/"
        },
        "id": "yfKFUvye8grj",
        "outputId": "473d7e70-4586-4bff-fce8-b3d5ce2f75b3"
      },
      "execution_count": 23,
      "outputs": [
        {
          "output_type": "stream",
          "name": "stdout",
          "text": [
            "Hotel_Address 1493\n",
            "Review_Date 731\n",
            "Hotel_Name 1492\n",
            "Reviewer_Nationality 227\n",
            "Negative_Review 330010\n",
            "Positive_Review 412600\n",
            "Tags 55242\n",
            "days_since_review 731\n"
          ]
        }
      ]
    },
    {
      "cell_type": "markdown",
      "source": [
        "Todas las variables categoricas tienen la cardinalidad alta.\n",
        "\n",
        "- Hay 1492 hoteles únicos\n",
        "- La variable Reviewer_Nationality tiene 227 valores distintos lo que resulta interesante ya que en el mundo existe un total de 194 países soberanos o estados soberanos reconocidos por la ONU (para el año 2021).Por lo tanto, hay un total de 194 nacionalidades."
      ],
      "metadata": {
        "id": "okg5rNZlAte8"
      }
    },
    {
      "cell_type": "code",
      "source": [
        "#Graficos de distribucion para cada varibale numerica\n",
        "fig, axes = plt.subplots(nrows=3, ncols=3, figsize=(14, 10))\n",
        "axes = axes.flat\n",
        "columnas_numeric = df.select_dtypes(include=['float64', 'int64']).columns\n",
        "for i, colum in enumerate(columnas_numeric):\n",
        "    sns.histplot(\n",
        "        data    = df,\n",
        "        x       = colum,\n",
        "        stat    = \"count\",\n",
        "        kde     = True,\n",
        "        color   = (list(plt.rcParams['axes.prop_cycle'])*2)[i][\"color\"],\n",
        "        line_kws= {'linewidth': 2},\n",
        "        alpha   = 0.3,\n",
        "        ax      = axes[i]\n",
        "    )\n",
        "    axes[i].set_title(colum, fontsize = 9, fontweight = \"bold\")\n",
        "    axes[i].tick_params(labelsize = 8)\n",
        "    axes[i].set_xlabel(\"\")\n",
        "    \n",
        "    \n",
        "fig.tight_layout()\n",
        "plt.subplots_adjust(top = 0.9)\n",
        "fig.suptitle('Distribución variables numéricas', fontsize = 14, fontweight = \"bold\");"
      ],
      "metadata": {
        "colab": {
          "base_uri": "https://localhost:8080/",
          "height": 724
        },
        "id": "neyPukGmAi1t",
        "outputId": "bada1c8c-46e5-40c9-ac93-f3c3089edd53"
      },
      "execution_count": 25,
      "outputs": [
        {
          "output_type": "display_data",
          "data": {
            "text/plain": [
              "<Figure size 1008x720 with 9 Axes>"
            ],
            "image/png": "[encoded data removed]"
          },
          "metadata": {}
        }
      ]
    },
    {
      "cell_type": "markdown",
      "source": [
        "###outliers (valores atípicos)"
      ],
      "metadata": {
        "id": "wcQbqeEJDLn0"
      }
    },
    {
      "cell_type": "code",
      "source": [
        "columnas = ['Reviewer_Score', 'Average_Score', 'Review_Total_Negative_Word_Counts', 'Total_Number_of_Reviews', \n",
        "           'Review_Total_Positive_Word_Counts', 'Total_Number_of_Reviews_Reviewer_Has_Given']\n",
        "\n",
        "n= 1\n",
        "plt.figure(figsize=(20,15))\n",
        "for column in columnas:\n",
        "  plt.subplot(4,4,n)\n",
        "  n = n+2\n",
        "  sns.boxplot(df[column])\n",
        "  plt.tight_layout()"
      ],
      "metadata": {
        "colab": {
          "base_uri": "https://localhost:8080/",
          "height": 838
        },
        "id": "tEGF8WHs7BIB",
        "outputId": "1f703400-19c6-4d6f-ebcc-93c38c8c6af0"
      },
      "execution_count": 28,
      "outputs": [
        {
          "output_type": "display_data",
          "data": {
            "text/plain": [
              "<Figure size 1440x1080 with 6 Axes>"
            ],
            "image/png": "[encoded data removed]"
          },
          "metadata": {}
        }
      ]
    },
    {
      "cell_type": "markdown",
      "source": [
        "###Pre- procesado"
      ],
      "metadata": {
        "id": "stKhUhCFEU_q"
      }
    },
    {
      "cell_type": "code",
      "source": [
        "df.info()"
      ],
      "metadata": {
        "colab": {
          "base_uri": "https://localhost:8080/"
        },
        "id": "EfgJbbmCEUNU",
        "outputId": "8b9cc7f0-6ab3-4559-c77f-24ca2dd2f778"
      },
      "execution_count": 29,
      "outputs": [
        {
          "output_type": "stream",
          "name": "stdout",
          "text": [
            "<class 'pandas.core.frame.DataFrame'>\n",
            "Int64Index: 515212 entries, 0 to 515737\n",
            "Data columns (total 17 columns):\n",
            " #   Column                                      Non-Null Count   Dtype  \n",
            "---  ------                                      --------------   -----  \n",
            " 0   Hotel_Address                               515212 non-null  object \n",
            " 1   Additional_Number_of_Scoring                515212 non-null  int64  \n",
            " 2   Review_Date                                 515212 non-null  object \n",
            " 3   Average_Score                               515212 non-null  float64\n",
            " 4   Hotel_Name                                  515212 non-null  object \n",
            " 5   Reviewer_Nationality                        514690 non-null  object \n",
            " 6   Negative_Review                             514215 non-null  object \n",
            " 7   Review_Total_Negative_Word_Counts           515212 non-null  int64  \n",
            " 8   Total_Number_of_Reviews                     515212 non-null  int64  \n",
            " 9   Positive_Review                             515019 non-null  object \n",
            " 10  Review_Total_Positive_Word_Counts           515212 non-null  int64  \n",
            " 11  Total_Number_of_Reviews_Reviewer_Has_Given  515212 non-null  int64  \n",
            " 12  Reviewer_Score                              515212 non-null  float64\n",
            " 13  Tags                                        515212 non-null  object \n",
            " 14  days_since_review                           515212 non-null  object \n",
            " 15  lat                                         511944 non-null  float64\n",
            " 16  lng                                         511944 non-null  float64\n",
            "dtypes: float64(4), int64(5), object(8)\n",
            "memory usage: 86.9+ MB\n"
          ]
        }
      ]
    },
    {
      "cell_type": "code",
      "source": [
        "#PREPROCESADO DE LA VARIBALE Review_Date\n",
        "#tranformando la variable  \"Review_date \" en tres  varibales : año, mes, dia\n",
        "df['month'] = pd.to_datetime(df['Review_Date']).dt.month.apply(str)\n",
        "df['year'] = pd.to_datetime(df['Review_Date']).dt.year.apply(str)\n",
        "df['day'] = pd.to_datetime(df['Review_Date']).dt.day.apply(str)\n",
        "\n",
        "df.info()"
      ],
      "metadata": {
        "colab": {
          "base_uri": "https://localhost:8080/"
        },
        "id": "r1EaDXsYEiaA",
        "outputId": "134d5647-b843-4f66-a54a-c7b9ba7ee989"
      },
      "execution_count": 31,
      "outputs": [
        {
          "output_type": "stream",
          "name": "stdout",
          "text": [
            "<class 'pandas.core.frame.DataFrame'>\n",
            "Int64Index: 515212 entries, 0 to 515737\n",
            "Data columns (total 20 columns):\n",
            " #   Column                                      Non-Null Count   Dtype  \n",
            "---  ------                                      --------------   -----  \n",
            " 0   Hotel_Address                               515212 non-null  object \n",
            " 1   Additional_Number_of_Scoring                515212 non-null  int64  \n",
            " 2   Review_Date                                 515212 non-null  object \n",
            " 3   Average_Score                               515212 non-null  float64\n",
            " 4   Hotel_Name                                  515212 non-null  object \n",
            " 5   Reviewer_Nationality                        514690 non-null  object \n",
            " 6   Negative_Review                             514215 non-null  object \n",
            " 7   Review_Total_Negative_Word_Counts           515212 non-null  int64  \n",
            " 8   Total_Number_of_Reviews                     515212 non-null  int64  \n",
            " 9   Positive_Review                             515019 non-null  object \n",
            " 10  Review_Total_Positive_Word_Counts           515212 non-null  int64  \n",
            " 11  Total_Number_of_Reviews_Reviewer_Has_Given  515212 non-null  int64  \n",
            " 12  Reviewer_Score                              515212 non-null  float64\n",
            " 13  Tags                                        515212 non-null  object \n",
            " 14  days_since_review                           515212 non-null  object \n",
            " 15  lat                                         511944 non-null  float64\n",
            " 16  lng                                         511944 non-null  float64\n",
            " 17  month                                       515212 non-null  object \n",
            " 18  year                                        515212 non-null  object \n",
            " 19  day                                         515212 non-null  object \n",
            "dtypes: float64(4), int64(5), object(11)\n",
            "memory usage: 98.7+ MB\n"
          ]
        }
      ]
    },
    {
      "cell_type": "code",
      "source": [
        "#Cambiando el numero del mes a su nombre\n",
        "df['month'] = pd.to_datetime(df['Review_Date']).dt.month_name() \n",
        "df.info()"
      ],
      "metadata": {
        "colab": {
          "base_uri": "https://localhost:8080/"
        },
        "id": "UJsRgjPYGApr",
        "outputId": "db5416d8-7257-4905-cd79-7e3947d34dd5"
      },
      "execution_count": 33,
      "outputs": [
        {
          "output_type": "stream",
          "name": "stdout",
          "text": [
            "<class 'pandas.core.frame.DataFrame'>\n",
            "Int64Index: 515212 entries, 0 to 515737\n",
            "Data columns (total 20 columns):\n",
            " #   Column                                      Non-Null Count   Dtype  \n",
            "---  ------                                      --------------   -----  \n",
            " 0   Hotel_Address                               515212 non-null  object \n",
            " 1   Additional_Number_of_Scoring                515212 non-null  int64  \n",
            " 2   Review_Date                                 515212 non-null  object \n",
            " 3   Average_Score                               515212 non-null  float64\n",
            " 4   Hotel_Name                                  515212 non-null  object \n",
            " 5   Reviewer_Nationality                        514690 non-null  object \n",
            " 6   Negative_Review                             514215 non-null  object \n",
            " 7   Review_Total_Negative_Word_Counts           515212 non-null  int64  \n",
            " 8   Total_Number_of_Reviews                     515212 non-null  int64  \n",
            " 9   Positive_Review                             515019 non-null  object \n",
            " 10  Review_Total_Positive_Word_Counts           515212 non-null  int64  \n",
            " 11  Total_Number_of_Reviews_Reviewer_Has_Given  515212 non-null  int64  \n",
            " 12  Reviewer_Score                              515212 non-null  float64\n",
            " 13  Tags                                        515212 non-null  object \n",
            " 14  days_since_review                           515212 non-null  object \n",
            " 15  lat                                         511944 non-null  float64\n",
            " 16  lng                                         511944 non-null  float64\n",
            " 17  month                                       515212 non-null  object \n",
            " 18  year                                        515212 non-null  object \n",
            " 19  day                                         515212 non-null  object \n",
            "dtypes: float64(4), int64(5), object(11)\n",
            "memory usage: 98.7+ MB\n"
          ]
        }
      ]
    },
    {
      "cell_type": "code",
      "source": [
        "#TRANFORMAMOS MISSINGS\n",
        "#completando valores faltantes que solo tiene mas mes y un año( sin dia)\n",
        "df['period'] = pd.to_datetime(df['Review_Date']).dt.strftime('%m/%Y') # => 7/\n",
        "df['period'] = pd.to_datetime(df['period'])"
      ],
      "metadata": {
        "id": "deTPwoovGRLx"
      },
      "execution_count": 35,
      "outputs": []
    },
    {
      "cell_type": "code",
      "source": [
        "df['period']"
      ],
      "metadata": {
        "colab": {
          "base_uri": "https://localhost:8080/"
        },
        "id": "LTlLqKc6G74r",
        "outputId": "daab11ce-2888-4bb0-a5b8-4e334f755581"
      },
      "execution_count": 36,
      "outputs": [
        {
          "output_type": "execute_result",
          "data": {
            "text/plain": [
              "0        2017-08-01\n",
              "1        2017-08-01\n",
              "2        2017-07-01\n",
              "3        2017-07-01\n",
              "4        2017-07-01\n",
              "            ...    \n",
              "515733   2015-08-01\n",
              "515734   2015-08-01\n",
              "515735   2015-08-01\n",
              "515736   2015-08-01\n",
              "515737   2015-08-01\n",
              "Name: period, Length: 515212, dtype: datetime64[ns]"
            ]
          },
          "metadata": {},
          "execution_count": 36
        }
      ]
    },
    {
      "cell_type": "code",
      "source": [
        "#TRANSFORMAMOS MISSINGS\n",
        "#Completando valores faltantes de 'Review-Nationality' por valores aleatorios ( en total solo 0.1% de missing)\n",
        "random = np.random.choice(df['Reviewer_Nationality'])\n",
        "df['Reviewer_Nationality']=df['Reviewer_Nationality'].fillna(random)\n",
        "\n",
        "#Completando valores faltantes de opíniones\n",
        "df['Negative_Review'] = df['Negative_Review'].fillna('No Negative')\n",
        "df['Positive_Review'] = df['Negative_Review'].fillna('No Positive')\n",
        "\n",
        "#controlando que no hayan valores faltantes\n",
        "df[['Reviewer_Nationality', 'Negative_Review', 'Positive_Review']].isnull().any().any()\n",
        "\n",
        "#Solo nos quedan missings en las varibales de longitud/latitud\n",
        "\n"
      ],
      "metadata": {
        "colab": {
          "base_uri": "https://localhost:8080/"
        },
        "id": "LY37tOfCHNfg",
        "outputId": "2a6c425d-4a2c-4ffb-8af3-a7478d6f15c1"
      },
      "execution_count": 38,
      "outputs": [
        {
          "output_type": "execute_result",
          "data": {
            "text/plain": [
              "False"
            ]
          },
          "metadata": {},
          "execution_count": 38
        }
      ]
    },
    {
      "cell_type": "code",
      "source": [
        "#creamos nuevas columnas, contando las palabras de opiniones negativas y positivas\n",
        "df.insert(7,'Negative_Word_Counts',df['Negative_Review'].str.split().str.len())\n",
        "df.insert(11,'Positive_Word_Counts',df['Positive_Review'].str.split().str.len())\n",
        "\n",
        "#poniendo a 0 el número de palabras donde no hay ninguna opinión\n",
        "df.loc[df.Positive_Review == 'No Positive', ['Positive_Word_Counts']] = 0\n",
        "df.loc[df.Negative_Review == 'No Negative', ['Negative_Word_Counts']] = 0\n",
        "\n",
        "#borramos un espacio en blanco al final del texto en \"Reviewer_Nationality\":\n",
        "df.Reviewer_Nationality = df.Reviewer_Nationality.str.rstrip()\n",
        "\n",
        "# Creamos nueva columna con el país del hotel\n",
        "def country_ident(st):\n",
        "    last = st.split()[-1]\n",
        "    if last == \"Kingdom\": return \"United Kingdom\"\n",
        "    else: \n",
        "        return last\n",
        "    \n",
        "df[\"Hotel_Country\"] = df[\"Hotel_Address\"].apply(country_ident)"
      ],
      "metadata": {
        "id": "zcEZxXGYLr6V"
      },
      "execution_count": 39,
      "outputs": []
    },
    {
      "cell_type": "code",
      "source": [
        "#borramos columnas \n",
        "df.drop(['Review_Date','Review_Total_Positive_Word_Counts', 'Review_Total_Negative_Word_Counts', 'Additional_Number_of_Scoring'],axis=1, inplace=True)"
      ],
      "metadata": {
        "id": "lQrXPUbDMNAo"
      },
      "execution_count": 40,
      "outputs": []
    },
    {
      "cell_type": "code",
      "source": [
        "df.head()"
      ],
      "metadata": {
        "colab": {
          "base_uri": "https://localhost:8080/",
          "height": 739
        },
        "id": "fjdJ20gKMO6h",
        "outputId": "0de31cc8-d972-49c4-89b1-fa56bac5fc91"
      },
      "execution_count": 41,
      "outputs": [
        {
          "output_type": "execute_result",
          "data": {
            "text/plain": [
              "                                       Hotel_Address  Average_Score  \\\n",
              "0  s Gravesandestraat 55 Oost 1092 AA Amsterdam N...            7.7   \n",
              "1  s Gravesandestraat 55 Oost 1092 AA Amsterdam N...            7.7   \n",
              "2  s Gravesandestraat 55 Oost 1092 AA Amsterdam N...            7.7   \n",
              "3  s Gravesandestraat 55 Oost 1092 AA Amsterdam N...            7.7   \n",
              "4  s Gravesandestraat 55 Oost 1092 AA Amsterdam N...            7.7   \n",
              "\n",
              "    Hotel_Name Reviewer_Nationality  \\\n",
              "0  Hotel Arena               Russia   \n",
              "1  Hotel Arena              Ireland   \n",
              "2  Hotel Arena            Australia   \n",
              "3  Hotel Arena       United Kingdom   \n",
              "4  Hotel Arena          New Zealand   \n",
              "\n",
              "                                     Negative_Review  Negative_Word_Counts  \\\n",
              "0  I am so angry that i made this post available ...                   395   \n",
              "1                                        No Negative                     0   \n",
              "2  Rooms are nice but for elderly a bit difficult...                    40   \n",
              "3  My room was dirty and I was afraid to walk bar...                   208   \n",
              "4  You When I booked with your company on line yo...                   138   \n",
              "\n",
              "   Total_Number_of_Reviews                                    Positive_Review  \\\n",
              "0                     1403  I am so angry that i made this post available ...   \n",
              "1                     1403                                        No Negative   \n",
              "2                     1403  Rooms are nice but for elderly a bit difficult...   \n",
              "3                     1403  My room was dirty and I was afraid to walk bar...   \n",
              "4                     1403  You When I booked with your company on line yo...   \n",
              "\n",
              "   Positive_Word_Counts  Total_Number_of_Reviews_Reviewer_Has_Given  \\\n",
              "0                   395                                           7   \n",
              "1                     2                                           7   \n",
              "2                    40                                           9   \n",
              "3                   208                                           1   \n",
              "4                   138                                           3   \n",
              "\n",
              "   Reviewer_Score                                               Tags  \\\n",
              "0             2.9  [' Leisure trip ', ' Couple ', ' Duplex Double...   \n",
              "1             7.5  [' Leisure trip ', ' Couple ', ' Duplex Double...   \n",
              "2             7.1  [' Leisure trip ', ' Family with young childre...   \n",
              "3             3.8  [' Leisure trip ', ' Solo traveler ', ' Duplex...   \n",
              "4             6.7  [' Leisure trip ', ' Couple ', ' Suite ', ' St...   \n",
              "\n",
              "  days_since_review        lat       lng   month  year day     period  \\\n",
              "0            0 days  52.360576  4.915968  August  2017   3 2017-08-01   \n",
              "1            0 days  52.360576  4.915968  August  2017   3 2017-08-01   \n",
              "2            3 days  52.360576  4.915968    July  2017  31 2017-07-01   \n",
              "3            3 days  52.360576  4.915968    July  2017  31 2017-07-01   \n",
              "4           10 days  52.360576  4.915968    July  2017  24 2017-07-01   \n",
              "\n",
              "  Hotel_Country  \n",
              "0   Netherlands  \n",
              "1   Netherlands  \n",
              "2   Netherlands  \n",
              "3   Netherlands  \n",
              "4   Netherlands  "
            ],
            "text/html": [
              "\n",
              "  <div id=\"df-d2dcfb3a-7d1d-4ca1-825f-9e13a365d843\">\n",
              "    <div class=\"colab-df-container\">\n",
              "      <div>\n",
              "<style scoped>\n",
              "    .dataframe tbody tr th:only-of-type {\n",
              "        vertical-align: middle;\n",
              "    }\n",
              "\n",
              "    .dataframe tbody tr th {\n",
              "        vertical-align: top;\n",
              "    }\n",
              "\n",
              "    .dataframe thead th {\n",
              "        text-align: right;\n",
              "    }\n",
              "</style>\n",
              "<table border=\"1\" class=\"dataframe\">\n",
              "  <thead>\n",
              "    <tr style=\"text-align: right;\">\n",
              "      <th></th>\n",
              "      <th>Hotel_Address</th>\n",
              "      <th>Average_Score</th>\n",
              "      <th>Hotel_Name</th>\n",
              "      <th>Reviewer_Nationality</th>\n",
              "      <th>Negative_Review</th>\n",
              "      <th>Negative_Word_Counts</th>\n",
              "      <th>Total_Number_of_Reviews</th>\n",
              "      <th>Positive_Review</th>\n",
              "      <th>Positive_Word_Counts</th>\n",
              "      <th>Total_Number_of_Reviews_Reviewer_Has_Given</th>\n",
              "      <th>Reviewer_Score</th>\n",
              "      <th>Tags</th>\n",
              "      <th>days_since_review</th>\n",
              "      <th>lat</th>\n",
              "      <th>lng</th>\n",
              "      <th>month</th>\n",
              "      <th>year</th>\n",
              "      <th>day</th>\n",
              "      <th>period</th>\n",
              "      <th>Hotel_Country</th>\n",
              "    </tr>\n",
              "  </thead>\n",
              "  <tbody>\n",
              "    <tr>\n",
              "      <th>0</th>\n",
              "      <td>s Gravesandestraat 55 Oost 1092 AA Amsterdam N...</td>\n",
              "      <td>7.7</td>\n",
              "      <td>Hotel Arena</td>\n",
              "      <td>Russia</td>\n",
              "      <td>I am so angry that i made this post available ...</td>\n",
              "      <td>395</td>\n",
              "      <td>1403</td>\n",
              "      <td>I am so angry that i made this post available ...</td>\n",
              "      <td>395</td>\n",
              "      <td>7</td>\n",
              "      <td>2.9</td>\n",
              "      <td>[' Leisure trip ', ' Couple ', ' Duplex Double...</td>\n",
              "      <td>0 days</td>\n",
              "      <td>52.360576</td>\n",
              "      <td>4.915968</td>\n",
              "      <td>August</td>\n",
              "      <td>2017</td>\n",
              "      <td>3</td>\n",
              "      <td>2017-08-01</td>\n",
              "      <td>Netherlands</td>\n",
              "    </tr>\n",
              "    <tr>\n",
              "      <th>1</th>\n",
              "      <td>s Gravesandestraat 55 Oost 1092 AA Amsterdam N...</td>\n",
              "      <td>7.7</td>\n",
              "      <td>Hotel Arena</td>\n",
              "      <td>Ireland</td>\n",
              "      <td>No Negative</td>\n",
              "      <td>0</td>\n",
              "      <td>1403</td>\n",
              "      <td>No Negative</td>\n",
              "      <td>2</td>\n",
              "      <td>7</td>\n",
              "      <td>7.5</td>\n",
              "      <td>[' Leisure trip ', ' Couple ', ' Duplex Double...</td>\n",
              "      <td>0 days</td>\n",
              "      <td>52.360576</td>\n",
              "      <td>4.915968</td>\n",
              "      <td>August</td>\n",
              "      <td>2017</td>\n",
              "      <td>3</td>\n",
              "      <td>2017-08-01</td>\n",
              "      <td>Netherlands</td>\n",
              "    </tr>\n",
              "    <tr>\n",
              "      <th>2</th>\n",
              "      <td>s Gravesandestraat 55 Oost 1092 AA Amsterdam N...</td>\n",
              "      <td>7.7</td>\n",
              "      <td>Hotel Arena</td>\n",
              "      <td>Australia</td>\n",
              "      <td>Rooms are nice but for elderly a bit difficult...</td>\n",
              "      <td>40</td>\n",
              "      <td>1403</td>\n",
              "      <td>Rooms are nice but for elderly a bit difficult...</td>\n",
              "      <td>40</td>\n",
              "      <td>9</td>\n",
              "      <td>7.1</td>\n",
              "      <td>[' Leisure trip ', ' Family with young childre...</td>\n",
              "      <td>3 days</td>\n",
              "      <td>52.360576</td>\n",
              "      <td>4.915968</td>\n",
              "      <td>July</td>\n",
              "      <td>2017</td>\n",
              "      <td>31</td>\n",
              "      <td>2017-07-01</td>\n",
              "      <td>Netherlands</td>\n",
              "    </tr>\n",
              "    <tr>\n",
              "      <th>3</th>\n",
              "      <td>s Gravesandestraat 55 Oost 1092 AA Amsterdam N...</td>\n",
              "      <td>7.7</td>\n",
              "      <td>Hotel Arena</td>\n",
              "      <td>United Kingdom</td>\n",
              "      <td>My room was dirty and I was afraid to walk bar...</td>\n",
              "      <td>208</td>\n",
              "      <td>1403</td>\n",
              "      <td>My room was dirty and I was afraid to walk bar...</td>\n",
              "      <td>208</td>\n",
              "      <td>1</td>\n",
              "      <td>3.8</td>\n",
              "      <td>[' Leisure trip ', ' Solo traveler ', ' Duplex...</td>\n",
              "      <td>3 days</td>\n",
              "      <td>52.360576</td>\n",
              "      <td>4.915968</td>\n",
              "      <td>July</td>\n",
              "      <td>2017</td>\n",
              "      <td>31</td>\n",
              "      <td>2017-07-01</td>\n",
              "      <td>Netherlands</td>\n",
              "    </tr>\n",
              "    <tr>\n",
              "      <th>4</th>\n",
              "      <td>s Gravesandestraat 55 Oost 1092 AA Amsterdam N...</td>\n",
              "      <td>7.7</td>\n",
              "      <td>Hotel Arena</td>\n",
              "      <td>New Zealand</td>\n",
              "      <td>You When I booked with your company on line yo...</td>\n",
              "      <td>138</td>\n",
              "      <td>1403</td>\n",
              "      <td>You When I booked with your company on line yo...</td>\n",
              "      <td>138</td>\n",
              "      <td>3</td>\n",
              "      <td>6.7</td>\n",
              "      <td>[' Leisure trip ', ' Couple ', ' Suite ', ' St...</td>\n",
              "      <td>10 days</td>\n",
              "      <td>52.360576</td>\n",
              "      <td>4.915968</td>\n",
              "      <td>July</td>\n",
              "      <td>2017</td>\n",
              "      <td>24</td>\n",
              "      <td>2017-07-01</td>\n",
              "      <td>Netherlands</td>\n",
              "    </tr>\n",
              "  </tbody>\n",
              "</table>\n",
              "</div>\n",
              "      <button class=\"colab-df-convert\" onclick=\"convertToInteractive('df-d2dcfb3a-7d1d-4ca1-825f-9e13a365d843')\"\n",
              "              title=\"Convert this dataframe to an interactive table.\"\n",
              "              style=\"display:none;\">\n",
              "        \n",
              "  <svg xmlns=\"http://www.w3.org/2000/svg\" height=\"24px\"viewBox=\"0 0 24 24\"\n",
              "       width=\"24px\">\n",
              "    <path d=\"M0 0h24v24H0V0z\" fill=\"none\"/>\n",
              "    <path d=\"M18.56 5.44l.94 2.06.94-2.06 2.06-.94-2.06-.94-.94-2.06-.94 2.06-2.06.94zm-11 1L8.5 8.5l.94-2.06 2.06-.94-2.06-.94L8.5 2.5l-.94 2.06-2.06.94zm10 10l.94 2.06.94-2.06 2.06-.94-2.06-.94-.94-2.06-.94 2.06-2.06.94z\"/><path d=\"M17.41 7.96l-1.37-1.37c-.4-.4-.92-.59-1.43-.59-.52 0-1.04.2-1.43.59L10.3 9.45l-7.72 7.72c-.78.78-.78 2.05 0 2.83L4 21.41c.39.39.9.59 1.41.59.51 0 1.02-.2 1.41-.59l7.78-7.78 2.81-2.81c.8-.78.8-2.07 0-2.86zM5.41 20L4 18.59l7.72-7.72 1.47 1.35L5.41 20z\"/>\n",
              "  </svg>\n",
              "      </button>\n",
              "      \n",
              "  <style>\n",
              "    .colab-df-container {\n",
              "      display:flex;\n",
              "      flex-wrap:wrap;\n",
              "      gap: 12px;\n",
              "    }\n",
              "\n",
              "    .colab-df-convert {\n",
              "      background-color: #E8F0FE;\n",
              "      border: none;\n",
              "      border-radius: 50%;\n",
              "      cursor: pointer;\n",
              "      display: none;\n",
              "      fill: #1967D2;\n",
              "      height: 32px;\n",
              "      padding: 0 0 0 0;\n",
              "      width: 32px;\n",
              "    }\n",
              "\n",
              "    .colab-df-convert:hover {\n",
              "      background-color: #E2EBFA;\n",
              "      box-shadow: 0px 1px 2px rgba(60, 64, 67, 0.3), 0px 1px 3px 1px rgba(60, 64, 67, 0.15);\n",
              "      fill: #174EA6;\n",
              "    }\n",
              "\n",
              "    [theme=dark] .colab-df-convert {\n",
              "      background-color: #3B4455;\n",
              "      fill: #D2E3FC;\n",
              "    }\n",
              "\n",
              "    [theme=dark] .colab-df-convert:hover {\n",
              "      background-color: #434B5C;\n",
              "      box-shadow: 0px 1px 3px 1px rgba(0, 0, 0, 0.15);\n",
              "      filter: drop-shadow(0px 1px 2px rgba(0, 0, 0, 0.3));\n",
              "      fill: #FFFFFF;\n",
              "    }\n",
              "  </style>\n",
              "\n",
              "      <script>\n",
              "        const buttonEl =\n",
              "          document.querySelector('#df-d2dcfb3a-7d1d-4ca1-825f-9e13a365d843 button.colab-df-convert');\n",
              "        buttonEl.style.display =\n",
              "          google.colab.kernel.accessAllowed ? 'block' : 'none';\n",
              "\n",
              "        async function convertToInteractive(key) {\n",
              "          const element = document.querySelector('#df-d2dcfb3a-7d1d-4ca1-825f-9e13a365d843');\n",
              "          const dataTable =\n",
              "            await google.colab.kernel.invokeFunction('convertToInteractive',\n",
              "                                                     [key], {});\n",
              "          if (!dataTable) return;\n",
              "\n",
              "          const docLinkHtml = 'Like what you see? Visit the ' +\n",
              "            '<a target=\"_blank\" href=https://colab.research.google.com/notebooks/data_table.ipynb>data table notebook</a>'\n",
              "            + ' to learn more about interactive tables.';\n",
              "          element.innerHTML = '';\n",
              "          dataTable['output_type'] = 'display_data';\n",
              "          await google.colab.output.renderOutput(dataTable, element);\n",
              "          const docLink = document.createElement('div');\n",
              "          docLink.innerHTML = docLinkHtml;\n",
              "          element.appendChild(docLink);\n",
              "        }\n",
              "      </script>\n",
              "    </div>\n",
              "  </div>\n",
              "  "
            ]
          },
          "metadata": {},
          "execution_count": 41
        }
      ]
    }
  ]
}