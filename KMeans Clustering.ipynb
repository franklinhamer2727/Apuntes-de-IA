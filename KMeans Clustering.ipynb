{
 "cells": [
  {
   "cell_type": "code",
   "execution_count": 2,
   "id": "accc04e7",
   "metadata": {},
   "outputs": [],
   "source": [
    "#import required libraries\n",
    "import numpy as np\n",
    "import matplotlib.pyplot as plt\n",
    "from sklearn.datasets import make_blobs\n"
   ]
  },
  {
   "cell_type": "code",
   "execution_count": 3,
   "id": "dbe237d9",
   "metadata": {},
   "outputs": [],
   "source": [
    "#Generate our Dataset\n",
    "dataset = make_blobs(n_samples =200,centers = 4,n_features =2,cluster_std =1.6,\n",
    "                    random_state = 50)"
   ]
  },
  {
   "cell_type": "code",
   "execution_count": 8,
   "id": "6e17fca8",
   "metadata": {},
   "outputs": [],
   "source": [
    "point_1 = dataset[0]\n",
    "point_2 = dataset[1]"
   ]
  },
  {
   "cell_type": "code",
   "execution_count": 9,
   "id": "54a4153b",
   "metadata": {},
   "outputs": [],
   "source": [
    "#import kmeans\n",
    "from sklearn.cluster import KMeans\n"
   ]
  },
  {
   "cell_type": "code",
   "execution_count": 10,
   "id": "0699d9c6",
   "metadata": {},
   "outputs": [],
   "source": [
    "#create a kmeans objects\n",
    "kmeans = KMeans(n_clusters= 4)"
   ]
  },
  {
   "cell_type": "code",
   "execution_count": 12,
   "id": "0bfa3292",
   "metadata": {},
   "outputs": [
    {
     "data": {
      "text/plain": [
       "KMeans(n_clusters=4)"
      ]
     },
     "execution_count": 12,
     "metadata": {},
     "output_type": "execute_result"
    }
   ],
   "source": [
    "#fit the Kmeasn object to the dataset\n",
    "kmeans.fit(point_1)"
   ]
  },
  {
   "cell_type": "code",
   "execution_count": 14,
   "id": "16f5499e",
   "metadata": {},
   "outputs": [
    {
     "data": {
      "text/plain": [
       "<matplotlib.collections.PathCollection at 0x7f389a822d90>"
      ]
     },
     "execution_count": 14,
     "metadata": {},
     "output_type": "execute_result"
    },
    {
     "data": {
      "image/png": "[encoded data removed]",
      "text/plain": [
       "<Figure size 432x288 with 1 Axes>"
      ]
     },
     "metadata": {
      "needs_background": "light"
     },
     "output_type": "display_data"
    }
   ],
   "source": [
    "plt.scatter(dataset[0][:,0],dataset[0][:,1])"
   ]
  },
  {
   "cell_type": "code",
   "execution_count": 18,
   "id": "ee67144d",
   "metadata": {},
   "outputs": [],
   "source": [
    "clusters =kmeans.cluster_centers_"
   ]
  },
  {
   "cell_type": "code",
   "execution_count": 19,
   "id": "489a08c4",
   "metadata": {},
   "outputs": [
    {
     "name": "stdout",
     "output_type": "stream",
     "text": [
      "[[ 0.05161133 -5.35489826]\n",
      " [-1.92101646  5.21673484]\n",
      " [-5.56465793 -2.34988939]\n",
      " [-2.40167949 10.17352695]]\n"
     ]
    }
   ],
   "source": [
    "print(clusters)"
   ]
  },
  {
   "cell_type": "code",
   "execution_count": 20,
   "id": "0480ed11",
   "metadata": {},
   "outputs": [],
   "source": [
    "y_km =kmeans.fit_predict(point_1)"
   ]
  },
  {
   "cell_type": "code",
   "execution_count": null,
   "id": "0b60993b",
   "metadata": {},
   "outputs": [],
   "source": []
  }
 ],
 "metadata": {
  "kernelspec": {
   "display_name": "Python 3 (ipykernel)",
   "language": "python",
   "name": "python3"
  },
  "language_info": {
   "codemirror_mode": {
    "name": "ipython",
    "version": 3
   },
   "file_extension": ".py",
   "mimetype": "text/x-python",
   "name": "python",
   "nbconvert_exporter": "python",
   "pygments_lexer": "ipython3",
   "version": "3.9.7"
  }
 },
 "nbformat": 4,
 "nbformat_minor": 5
}
