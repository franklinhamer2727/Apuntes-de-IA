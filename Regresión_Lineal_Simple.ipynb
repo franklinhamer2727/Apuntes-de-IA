{
  "nbformat": 4,
  "nbformat_minor": 0,
  "metadata": {
    "colab": {
      "name": "Regresión Lineal Simple.ipynb",
      "provenance": [],
      "collapsed_sections": []
    },
    "kernelspec": {
      "name": "python3",
      "display_name": "Python 3"
    },
    "language_info": {
      "name": "python"
    }
  },
  "cells": [
    {
      "cell_type": "markdown",
      "metadata": {
        "id": "DL8JAdXWz1Ns"
      },
      "source": [
        "#Regresión Lineal simple\n",
        "\n",
        "Supóngase que un analista de deportes quiere saber si existe una relación entre el número de veces que batean los jugadores de un equipo de béisbol y el número de runs que consigue. En caso de existir y de establecer un modelo, podría predecir el resultado del partido"
      ]
    },
    {
      "cell_type": "code",
      "metadata": {
        "id": "PBFHiK_7kC4Q"
      },
      "source": [
        "#Tratamiento de datos\n",
        "import pandas as pd\n",
        "import numpy as np\n",
        "#Graficcos\n",
        "import matplotlib.pyplot as plt\n",
        "from matplotlib import style \n",
        "import seaborn as sns\n",
        "\n",
        "#Procesamiento y modelado\n",
        "from scipy.stats import pearsonr\n",
        "from sklearn.linear_model import LinearRegression \n",
        "from sklearn.model_selection import train_test_split\n",
        "from sklearn.metrics import r2_score\n",
        "from sklearn.metrics import mean_squared_error\n",
        "import statsmodels.api as sm\n",
        "import statsmodels.formula.api as smf\n",
        "\n",
        "#Configuracion matplotlib\n",
        "plt.rcParams['image.cmap'] = \"bwr\"\n",
        "plt.rcParams['savefig.bbox'] =\"tight\"\n",
        "style.use('ggplot') or plt.style.use('ggplot')\n",
        "#configure warnings\n",
        "import warnings\n",
        "warnings.filterwarnings('ignore')\n"
      ],
      "execution_count": 3,
      "outputs": []
    },
    {
      "cell_type": "code",
      "metadata": {
        "id": "fSeNZGcEmGlG"
      },
      "source": [
        "#Datos\n",
        "equipos = [\"Texas\",\"Boston\",\"Detroit\",\"Kansas\",\"St.\",\"New_S.\",\"New_Y.\",\n",
        "           \"Milwaukee\",\"Colorado\",\"Houston\",\"Baltimore\",\"Los_An.\",\"Chicago\",\n",
        "           \"Cincinnati\",\"Los_P.\",\"Philadelphia\",\"Chicago\",\"Cleveland\",\"Arizona\",\n",
        "           \"Toronto\",\"Minnesota\",\"Florida\",\"Pittsburgh\",\"Oakland\",\"Tampa\",\n",
        "           \"Atlanta\",\"Washington\",\"San.F\",\"San.I\",\"Seattle\"]\n",
        "bateos = [5659,  5710, 5563, 5672, 5532, 5600, 5518, 5447, 5544, 5598,\n",
        "          5585, 5436, 5549, 5612, 5513, 5579, 5502, 5509, 5421, 5559,\n",
        "          5487, 5508, 5421, 5452, 5436, 5528, 5441, 5486, 5417, 5421]\n",
        "\n",
        "runs = [855, 875, 787, 730, 762, 718, 867, 721, 735, 615, 708, 644, 654, 735,\n",
        "        667, 713, 654, 704, 731, 743, 619, 625, 610, 645, 707, 641, 624, 570,\n",
        "        593, 556]\n",
        "\n",
        "datos = pd.DataFrame({'equipos': equipos, 'bateos': bateos, 'runs': runs})"
      ],
      "execution_count": 4,
      "outputs": []
    },
    {
      "cell_type": "code",
      "metadata": {
        "colab": {
          "base_uri": "https://localhost:8080/",
          "height": 309
        },
        "id": "kyb6ZcghmTUk",
        "outputId": "3af13bb1-c29d-45ea-e8e7-b0db00bf1a75"
      },
      "source": [
        "#representacion Grafica\n",
        "fig,ax = plt.subplots(figsize=(6,3.84))\n",
        "datos.plot(\n",
        "    x = 'bateos',\n",
        "    y = 'runs',\n",
        "    c = 'blue',\n",
        "    kind =\"scatter\",\n",
        "    ax =ax\n",
        ")\n",
        "ax.set_title('Distribucion de bateos y runs')"
      ],
      "execution_count": 6,
      "outputs": [
        {
          "output_type": "execute_result",
          "data": {
            "text/plain": [
              "Text(0.5, 1.0, 'Distribucion de bateos y runs')"
            ]
          },
          "metadata": {},
          "execution_count": 6
        },
        {
          "output_type": "display_data",
          "data": {
            "image/png": "[encoded data removed]",
            "text/plain": [
              "<Figure size 432x276.48 with 1 Axes>"
            ]
          },
          "metadata": {}
        }
      ]
    },
    {
      "cell_type": "code",
      "metadata": {
        "colab": {
          "base_uri": "https://localhost:8080/"
        },
        "id": "cBQzxL6TnE3-",
        "outputId": "df07567b-e9ea-4bb7-89f4-88fdf0c693ea"
      },
      "source": [
        "#Correlación lineal entre las dos variables\n",
        "corr_test = pearsonr(x = datos['bateos'], y = datos['runs'])\n",
        "print(\"Coeficientes de correlacion de pearson:\", corr_test[0])\n",
        "print(\"P_value: \", corr_test[1])"
      ],
      "execution_count": 8,
      "outputs": [
        {
          "output_type": "stream",
          "name": "stdout",
          "text": [
            "Coeficientes de correlacion de pearson: 0.6106270467206688\n",
            "P_value:  0.0003388351359791963\n"
          ]
        }
      ]
    },
    {
      "cell_type": "code",
      "metadata": {
        "id": "-GLRKXz0nh6Z"
      },
      "source": [
        "#Division de los datos en train y test\n",
        "X= datos[['bateos']]\n",
        "y = datos['runs']\n",
        "X_train, X_test, y_train, y_test = train_test_split(\n",
        "    X.values.reshape(-1,1),\n",
        "    y.values.reshape(-1,1),\n",
        "    train_size = 0.8,\n",
        "    random_state = 1234,\n",
        "    shuffle = True\n",
        ")"
      ],
      "execution_count": 9,
      "outputs": []
    },
    {
      "cell_type": "code",
      "metadata": {
        "colab": {
          "base_uri": "https://localhost:8080/"
        },
        "id": "E7_CHwVTn-k7",
        "outputId": "a9c1b854-e409-472b-f30b-8badf0b89324"
      },
      "source": [
        "#Creacion del modelo\n",
        "modelo = LinearRegression()\n",
        "modelo.fit(X= X_train.reshape(-1,1), y = y_train)\n"
      ],
      "execution_count": 10,
      "outputs": [
        {
          "output_type": "execute_result",
          "data": {
            "text/plain": [
              "LinearRegression(copy_X=True, fit_intercept=True, n_jobs=None, normalize=False)"
            ]
          },
          "metadata": {},
          "execution_count": 10
        }
      ]
    },
    {
      "cell_type": "code",
      "metadata": {
        "colab": {
          "base_uri": "https://localhost:8080/"
        },
        "id": "OtUtQhUIoYzg",
        "outputId": "f7bbd89a-4d80-4703-8741-d743cb0645a5"
      },
      "source": [
        "#Información del modelo\n",
        "print(\"Intercepciones: \", modelo.intercept_)\n",
        "print(\"Coeficientes :\",list(zip(X.columns, modelo.coef_.flatten(),)))\n",
        "print(\"Coeficientes de entrenamiento R^2:\", modelo.score(X,y))"
      ],
      "execution_count": 12,
      "outputs": [
        {
          "output_type": "stream",
          "name": "stdout",
          "text": [
            "Intercepciones:  [-2367.7028413]\n",
            "Coeficientes : [('bateos', 0.5528713534479736)]\n",
            "Coeficientes de entrenamiento R^2: 0.35861198994987437\n"
          ]
        }
      ]
    },
    {
      "cell_type": "markdown",
      "metadata": {
        "id": "wh6ct30Eo5-D"
      },
      "source": [
        "Una vez entreanado el modelo, se evalúa la capacidad  predictiva empleando el conjunto de test"
      ]
    },
    {
      "cell_type": "code",
      "metadata": {
        "colab": {
          "base_uri": "https://localhost:8080/"
        },
        "id": "gs1MYtGTo4R0",
        "outputId": "52772a22-57e3-4950-9e4f-06cb163321b9"
      },
      "source": [
        "predicciones = modelo.predict(X= X_test)\n",
        "print(predicciones[0:3,])\n",
        "rmse = mean_squared_error(\n",
        "    y_true = y_test,\n",
        "    y_pred = predicciones,\n",
        "    squared = False\n",
        ")\n",
        "print(\"\")\n",
        "print(f\"El error (rmse) de test es :{rmse}\")"
      ],
      "execution_count": 13,
      "outputs": [
        {
          "output_type": "stream",
          "name": "stdout",
          "text": [
            "[[643.78742093]\n",
            " [720.0836677 ]\n",
            " [690.78148597]]\n",
            "\n",
            "El error (rmse) de test es :59.336716083360486\n"
          ]
        }
      ]
    },
    {
      "cell_type": "markdown",
      "metadata": {
        "id": "eP6vghZ8zOnC"
      },
      "source": [
        "\n",
        "\n",
        "La columna (coef) devuelve el valor estimado para los dos parámetros de la ecuación del modelo lineal $(β^0 $y $β^1$ ) que equivalen a la ordenada en el origen (intercept o const) y a la pendiente. Se muestran también los errores estándar, el valor del estadístico t y el p-value (dos colas) de cada uno de los dos parámetros. Esto permite determinar si los predictores son significativamente distintos de 0, es decir, que tienen importancia en el modelo. Para el modelo generado, tanto la ordenada en el origen como la pendiente son significativas (p-values < 0.05).\n",
        "\n",
        "El valor de R-squared indica que el modelo es capaz de explicar el $27.1%$ de la variabilidad observada en la variable respuesta (runs). Además, el p-value obtenido en el test $F (Prob (F-statistic) = 0.00906)$ indica que sí hay evidencias de que la varianza explicada por el modelo es superior a la esperada por azar (varianza total).\n",
        "\n",
        "El modelo lineal generado sigue la ecuación:\n",
        "$$runs = -2367.7028 + 0.6305$$ bateos\n",
        "\n",
        "Por cada unidad que se incrementa el número de bateos, el número de runs aumenta en promedio 0.6305 unidades.\n",
        "\n",
        "El error de test del modelo es de 59.34. Las predicciones del modelo final se alejan en promedio 59.34 unidades del valor real. "
      ]
    }
  ]
}