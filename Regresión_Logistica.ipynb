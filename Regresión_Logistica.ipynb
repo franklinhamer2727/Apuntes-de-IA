{
  "nbformat": 4,
  "nbformat_minor": 0,
  "metadata": {
    "colab": {
      "name": "Regresión_Logistica.ipynb",
      "provenance": [],
      "collapsed_sections": []
    },
    "kernelspec": {
      "name": "python3",
      "display_name": "Python 3"
    },
    "language_info": {
      "name": "python"
    }
  },
  "cells": [
    {
      "cell_type": "markdown",
      "metadata": {
        "id": "eQKQ_8824AuR"
      },
      "source": [
        "#Árboles de regresión\n"
      ]
    },
    {
      "cell_type": "code",
      "metadata": {
        "id": "utsTPcKszpSi"
      },
      "source": [
        "#Tratamiento de Datos\n",
        "import numpy as np\n",
        "import pandas as pd\n",
        "#Importamos las libreias para los graficos\n",
        "import matplotlib.pyplot as plt\n",
        "#Porcesamiento del modelo\n",
        "from sklearn.datasets import load_boston\n",
        "from sklearn.model_selection import train_test_split\n",
        "from sklearn.tree import DecisionTreeRegressor\n",
        "from sklearn.tree import plot_tree\n",
        "from sklearn.tree import export_graphviz\n",
        "from sklearn.tree import export_text\n",
        "from sklearn.model_selection import GridSearchCV\n",
        "from sklearn.metrics import mean_squared_error"
      ],
      "execution_count": 4,
      "outputs": []
    },
    {
      "cell_type": "code",
      "metadata": {
        "id": "iVXJQy965IdG"
      },
      "source": [
        "#Configuración de warnings\n",
        "import warnings\n",
        "warnings.filterwarnings('once')"
      ],
      "execution_count": 5,
      "outputs": []
    },
    {
      "cell_type": "code",
      "metadata": {
        "colab": {
          "base_uri": "https://localhost:8080/"
        },
        "id": "jQ3hkXTn5g2q",
        "outputId": "353fd3bd-8a9f-4e3e-fb70-5d76af3df949"
      },
      "source": [
        "#Unimos los datos (Predictores y variables  repzuesta en un unico Dtaframe)\n",
        "boston = load_boston(return_X_y = False)\n",
        "datos = np.column_stack((boston.data, boston.target))\n",
        "datos = pd.DataFrame(datos, columns = np.append(boston.feature_names, \"MEDV\"))\n",
        "datos.info()\n"
      ],
      "execution_count": 11,
      "outputs": [
        {
          "output_type": "stream",
          "name": "stdout",
          "text": [
            "<class 'pandas.core.frame.DataFrame'>\n",
            "RangeIndex: 506 entries, 0 to 505\n",
            "Data columns (total 14 columns):\n",
            " #   Column   Non-Null Count  Dtype  \n",
            "---  ------   --------------  -----  \n",
            " 0   CRIM     506 non-null    float64\n",
            " 1   ZN       506 non-null    float64\n",
            " 2   INDUS    506 non-null    float64\n",
            " 3   CHAS     506 non-null    float64\n",
            " 4   NOX      506 non-null    float64\n",
            " 5   RM       506 non-null    float64\n",
            " 6   AGE      506 non-null    float64\n",
            " 7   DIS      506 non-null    float64\n",
            " 8   RAD      506 non-null    float64\n",
            " 9   TAX      506 non-null    float64\n",
            " 10  PTRATIO  506 non-null    float64\n",
            " 11  B        506 non-null    float64\n",
            " 12  LSTAT    506 non-null    float64\n",
            " 13  MEDV     506 non-null    float64\n",
            "dtypes: float64(14)\n",
            "memory usage: 55.5 KB\n"
          ]
        }
      ]
    },
    {
      "cell_type": "code",
      "metadata": {
        "colab": {
          "base_uri": "https://localhost:8080/"
        },
        "id": "GHtr57dZ7QRa",
        "outputId": "9188267f-5610-4352-e97d-fb724dae8fc8"
      },
      "source": [
        "#Division de los datos  en train y test\n",
        "X_train, X_test, y_train,y_tets = train_test_split(\n",
        "    datos.drop(columns =\"MEDV\"),\n",
        "    datos['MEDV'],\n",
        "    random_state= 123\n",
        ")\n",
        "#Creacion del  modelo\n",
        "modelo = DecisionTreeRegressor(\n",
        "    max_depth = 3,\n",
        "    random_state = 123\n",
        ")\n",
        "#Entrenamiento del modelo\n",
        "modelo.fit(X_train, y_train)"
      ],
      "execution_count": 14,
      "outputs": [
        {
          "output_type": "execute_result",
          "data": {
            "text/plain": [
              "DecisionTreeRegressor(ccp_alpha=0.0, criterion='mse', max_depth=3,\n",
              "                      max_features=None, max_leaf_nodes=None,\n",
              "                      min_impurity_decrease=0.0, min_impurity_split=None,\n",
              "                      min_samples_leaf=1, min_samples_split=2,\n",
              "                      min_weight_fraction_leaf=0.0, presort='deprecated',\n",
              "                      random_state=123, splitter='best')"
            ]
          },
          "metadata": {},
          "execution_count": 14
        }
      ]
    },
    {
      "cell_type": "code",
      "metadata": {
        "colab": {
          "base_uri": "https://localhost:8080/",
          "height": 340
        },
        "id": "gBSlyHX09HZR",
        "outputId": "a3860c12-fb1d-4861-c164-8431269a909c"
      },
      "source": [
        "#Estructura del arbol creado\n",
        "fig,ax = plt.subplots(figsize =(12,5))\n",
        "print(f\"Profundidad del árbol : {modelo.get_depth()}\")\n",
        "print(f\"Numero de nodos terminales: {modelo.get_n_leaves()}\")\n",
        "\n",
        "plot = plot_tree(\n",
        "            decision_tree = modelo,\n",
        "            feature_names = datos.drop(columns = \"MEDV\").columns,\n",
        "            class_names   = 'MEDV',\n",
        "            filled        = True,\n",
        "            impurity      = False,\n",
        "            fontsize      = 10,\n",
        "            precision     = 2,\n",
        "            ax            = ax\n",
        "       )"
      ],
      "execution_count": 25,
      "outputs": [
        {
          "output_type": "stream",
          "name": "stdout",
          "text": [
            "Profundidad del árbol : 3\n",
            "Numero de nodos terminales: 8\n"
          ]
        },
        {
          "output_type": "display_data",
          "data": {
            "image/png": "[encoded data removed]",
            "text/plain": [
              "<Figure size 864x360 with 1 Axes>"
            ]
          },
          "metadata": {
            "needs_background": "light"
          }
        }
      ]
    },
    {
      "cell_type": "code",
      "metadata": {
        "colab": {
          "base_uri": "https://localhost:8080/"
        },
        "id": "dj6Jf-UW_K6O",
        "outputId": "59fb828a-16d2-469a-dd2d-119d2444805b"
      },
      "source": [
        "texto_modelo = export_text(\n",
        "    decision_tree =modelo,\n",
        "    feature_names = list (datos.drop(columns = \"MEDV\").columns)\n",
        ")\n",
        "print(texto_modelo)"
      ],
      "execution_count": 29,
      "outputs": [
        {
          "output_type": "stream",
          "name": "stdout",
          "text": [
            "|--- RM <= 6.98\n",
            "|   |--- LSTAT <= 14.39\n",
            "|   |   |--- DIS <= 1.42\n",
            "|   |   |   |--- value: [50.00]\n",
            "|   |   |--- DIS >  1.42\n",
            "|   |   |   |--- value: [23.13]\n",
            "|   |--- LSTAT >  14.39\n",
            "|   |   |--- CRIM <= 6.99\n",
            "|   |   |   |--- value: [16.96]\n",
            "|   |   |--- CRIM >  6.99\n",
            "|   |   |   |--- value: [11.58]\n",
            "|--- RM >  6.98\n",
            "|   |--- RM <= 7.44\n",
            "|   |   |--- DIS <= 1.57\n",
            "|   |   |   |--- value: [50.00]\n",
            "|   |   |--- DIS >  1.57\n",
            "|   |   |   |--- value: [32.17]\n",
            "|   |--- RM >  7.44\n",
            "|   |   |--- PTRATIO <= 17.90\n",
            "|   |   |   |--- value: [47.36]\n",
            "|   |   |--- PTRATIO >  17.90\n",
            "|   |   |   |--- value: [40.12]\n",
            "\n"
          ]
        }
      ]
    },
    {
      "cell_type": "code",
      "metadata": {
        "colab": {
          "base_uri": "https://localhost:8080/",
          "height": 476
        },
        "id": "61zejvU5_vQR",
        "outputId": "0c4c6687-7a4e-4736-b2e4-d6318cd90edd"
      },
      "source": [
        "#Importancia de predictores\n",
        "importancia_predictores = pd.DataFrame(\n",
        "    {'predictor':datos.drop(columns =\"MEDV\").columns,\n",
        "     'importancia':modelo.feature_importances_}\n",
        ")\n",
        "print(\"Importancia de los predictores en el modelo\")\n",
        "importancia_predictores.sort_values('importancia',ascending =False)"
      ],
      "execution_count": 30,
      "outputs": [
        {
          "output_type": "stream",
          "name": "stdout",
          "text": [
            "Importancia de los predictores en el modelo\n"
          ]
        },
        {
          "output_type": "execute_result",
          "data": {
            "text/html": [
              "<div>\n",
              "<style scoped>\n",
              "    .dataframe tbody tr th:only-of-type {\n",
              "        vertical-align: middle;\n",
              "    }\n",
              "\n",
              "    .dataframe tbody tr th {\n",
              "        vertical-align: top;\n",
              "    }\n",
              "\n",
              "    .dataframe thead th {\n",
              "        text-align: right;\n",
              "    }\n",
              "</style>\n",
              "<table border=\"1\" class=\"dataframe\">\n",
              "  <thead>\n",
              "    <tr style=\"text-align: right;\">\n",
              "      <th></th>\n",
              "      <th>predictor</th>\n",
              "      <th>importancia</th>\n",
              "    </tr>\n",
              "  </thead>\n",
              "  <tbody>\n",
              "    <tr>\n",
              "      <th>5</th>\n",
              "      <td>RM</td>\n",
              "      <td>0.671680</td>\n",
              "    </tr>\n",
              "    <tr>\n",
              "      <th>12</th>\n",
              "      <td>LSTAT</td>\n",
              "      <td>0.222326</td>\n",
              "    </tr>\n",
              "    <tr>\n",
              "      <th>7</th>\n",
              "      <td>DIS</td>\n",
              "      <td>0.064816</td>\n",
              "    </tr>\n",
              "    <tr>\n",
              "      <th>0</th>\n",
              "      <td>CRIM</td>\n",
              "      <td>0.034714</td>\n",
              "    </tr>\n",
              "    <tr>\n",
              "      <th>10</th>\n",
              "      <td>PTRATIO</td>\n",
              "      <td>0.006465</td>\n",
              "    </tr>\n",
              "    <tr>\n",
              "      <th>1</th>\n",
              "      <td>ZN</td>\n",
              "      <td>0.000000</td>\n",
              "    </tr>\n",
              "    <tr>\n",
              "      <th>2</th>\n",
              "      <td>INDUS</td>\n",
              "      <td>0.000000</td>\n",
              "    </tr>\n",
              "    <tr>\n",
              "      <th>3</th>\n",
              "      <td>CHAS</td>\n",
              "      <td>0.000000</td>\n",
              "    </tr>\n",
              "    <tr>\n",
              "      <th>4</th>\n",
              "      <td>NOX</td>\n",
              "      <td>0.000000</td>\n",
              "    </tr>\n",
              "    <tr>\n",
              "      <th>6</th>\n",
              "      <td>AGE</td>\n",
              "      <td>0.000000</td>\n",
              "    </tr>\n",
              "    <tr>\n",
              "      <th>8</th>\n",
              "      <td>RAD</td>\n",
              "      <td>0.000000</td>\n",
              "    </tr>\n",
              "    <tr>\n",
              "      <th>9</th>\n",
              "      <td>TAX</td>\n",
              "      <td>0.000000</td>\n",
              "    </tr>\n",
              "    <tr>\n",
              "      <th>11</th>\n",
              "      <td>B</td>\n",
              "      <td>0.000000</td>\n",
              "    </tr>\n",
              "  </tbody>\n",
              "</table>\n",
              "</div>"
            ],
            "text/plain": [
              "   predictor  importancia\n",
              "5         RM     0.671680\n",
              "12     LSTAT     0.222326\n",
              "7        DIS     0.064816\n",
              "0       CRIM     0.034714\n",
              "10   PTRATIO     0.006465\n",
              "1         ZN     0.000000\n",
              "2      INDUS     0.000000\n",
              "3       CHAS     0.000000\n",
              "4        NOX     0.000000\n",
              "6        AGE     0.000000\n",
              "8        RAD     0.000000\n",
              "9        TAX     0.000000\n",
              "11         B     0.000000"
            ]
          },
          "metadata": {},
          "execution_count": 30
        }
      ]
    }
  ]
}